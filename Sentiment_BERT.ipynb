{
 "cells": [
  {
   "cell_type": "markdown",
   "metadata": {},
   "source": [
    "# 1. Installing and Importing Dependencies"
   ]
  },
  {
   "cell_type": "code",
   "execution_count": 1,
   "metadata": {},
   "outputs": [],
   "source": [
    "from transformers import AutoTokenizer, AutoModelForSequenceClassification\n",
    "import torch\n",
    "import requests\n",
    "from bs4 import BeautifulSoup\n",
    "import re"
   ]
  },
  {
   "cell_type": "code",
   "execution_count": 2,
   "metadata": {},
   "outputs": [],
   "source": [
    "import numpy as np\n",
    "import pandas as pd"
   ]
  },
  {
   "cell_type": "markdown",
   "metadata": {},
   "source": [
    "# 2. Instantiating Model"
   ]
  },
  {
   "cell_type": "code",
   "execution_count": 4,
   "metadata": {},
   "outputs": [
    {
     "name": "stderr",
     "output_type": "stream",
     "text": [
      "/Users/ayseljafarova/anaconda3/envs/newenv/lib/python3.10/site-packages/huggingface_hub/file_download.py:1132: FutureWarning: `resume_download` is deprecated and will be removed in version 1.0.0. Downloads always resume when possible. If you want to force a new download, use `force_download=True`.\n",
      "  warnings.warn(\n"
     ]
    }
   ],
   "source": [
    "tokenizer = AutoTokenizer.from_pretrained('nlptown/bert-base-multilingual-uncased-sentiment')\n",
    "\n",
    "model = AutoModelForSequenceClassification.from_pretrained('nlptown/bert-base-multilingual-uncased-sentiment')"
   ]
  },
  {
   "cell_type": "markdown",
   "metadata": {},
   "source": [
    "# 3. Encoding and Calculating random Sentiment"
   ]
  },
  {
   "cell_type": "code",
   "execution_count": 5,
   "metadata": {},
   "outputs": [],
   "source": [
    "tokens = tokenizer.encode('It was good but couldve been better. Great', return_tensors='pt')"
   ]
  },
  {
   "cell_type": "code",
   "execution_count": 6,
   "metadata": {},
   "outputs": [],
   "source": [
    "result = model(tokens)"
   ]
  },
  {
   "cell_type": "code",
   "execution_count": 5,
   "metadata": {},
   "outputs": [
    {
     "data": {
      "text/plain": [
       "tensor([[-2.7768, -1.2353,  1.4419,  1.9804,  0.4584]],\n",
       "       grad_fn=<AddmmBackward0>)"
      ]
     },
     "execution_count": 5,
     "metadata": {},
     "output_type": "execute_result"
    }
   ],
   "source": [
    "result.logits"
   ]
  },
  {
   "cell_type": "code",
   "execution_count": 6,
   "metadata": {},
   "outputs": [
    {
     "data": {
      "text/plain": [
       "4"
      ]
     },
     "execution_count": 6,
     "metadata": {},
     "output_type": "execute_result"
    }
   ],
   "source": [
    "int(torch.argmax(result.logits))+1"
   ]
  },
  {
   "cell_type": "markdown",
   "metadata": {},
   "source": [
    "# 4. Collecting Reviews from Trustpilot"
   ]
  },
  {
   "cell_type": "code",
   "execution_count": 8,
   "metadata": {},
   "outputs": [],
   "source": [
    "urls = [\"https://www.trustpilot.com/review/www.dugood.org\",\n",
    "       \"https://www.trustpilot.com/review/www.dugood.org?page=2\",\n",
    "       \"https://www.trustpilot.com/review/www.dugood.org?page=3\",\n",
    "       \"https://www.trustpilot.com/review/www.dugood.org?page=4\",\n",
    "       \"https://www.trustpilot.com/review/www.dugood.org?page=5\",\n",
    "       \"https://www.trustpilot.com/review/www.dugood.org?page=6\",\n",
    "       \"https://www.trustpilot.com/review/www.dugood.org?page=7\",\n",
    "       \"https://www.trustpilot.com/review/www.dugood.org?page=8\",\n",
    "       \"https://www.trustpilot.com/review/www.dugood.org?page=9\",\n",
    "       \"https://www.trustpilot.com/review/www.dugood.org?page=10\",\n",
    "       \"https://www.trustpilot.com/review/www.dugood.org?page=11\",\n",
    "       \"https://www.trustpilot.com/review/www.dugood.org?page=12\",\n",
    "       \"https://www.trustpilot.com/review/www.dugood.org?page=13\",\n",
    "       \"https://www.trustpilot.com/review/www.dugood.org?page=14\",\n",
    "       \"https://www.trustpilot.com/review/www.dugood.org?page=15\",\n",
    "\n",
    "       \"https://www.trustpilot.com/review/www.dugood.org?page=16\",\n",
    "       \"https://www.trustpilot.com/review/www.dugood.org?page=17\",\n",
    "       \"https://www.trustpilot.com/review/www.dugood.org?page=18\",\n",
    "       \"https://www.trustpilot.com/review/www.dugood.org?page=19\",\n",
    "       \"https://www.trustpilot.com/review/www.dugood.org?page=20\",\n",
    "       \"https://www.trustpilot.com/review/www.dugood.org?page=21\",\n",
    "       \"https://www.trustpilot.com/review/www.dugood.org?page=22\",\n",
    "       \"https://www.trustpilot.com/review/www.dugood.org?page=23\",\n",
    "       \"https://www.trustpilot.com/review/www.dugood.org?page=24\",\n",
    "       \"https://www.trustpilot.com/review/www.dugood.org?page=25\"]\n",
    "reviews =[]\n",
    "\n",
    "for url in urls: \n",
    "    r = requests.get(url)\n",
    "    soup = BeautifulSoup(r.text, 'html.parser')\n",
    "    regex = re.compile('.*typography_color-black__5LYEn.*')\n",
    "    results = soup.find_all('p', {'class':regex})\n",
    "    review = [result.text for result in results]\n",
    "    reviews.append(review)"
   ]
  },
  {
   "cell_type": "markdown",
   "metadata": {},
   "source": [
    "#### Converting reviews list of list to a single list"
   ]
  },
  {
   "cell_type": "code",
   "execution_count": 28,
   "metadata": {},
   "outputs": [
    {
     "data": {
      "text/plain": [
       "['The customer service was amazing. The loan officer Allison Medina was exceptional and would recommend her to anyone. I have had other credit unions but this one beats them all. We were at Rave but gladly switched to here. Great service and awesome credit union and the employees that work here.',\n",
       " 'I applied for an auto refinancing loan and it was processed the same day. Tracy at the Beaumont Eastex Freeway location was walked me through the process and was extremely helpful, friendly and professional. I couldn’t have been more pleased. ',\n",
       " 'I financed my car through DuGood and I needed to have a account through them. Decided switching banks was easier then having multiple accounts open. Talked with Christy and she was very nice and helpful. She walked me through the whole process and explained everything in a simple and easy way to understand. I got more benefits then I did with my other bank and staff was so much nicer. Thank you Christy! Would recommend doing business here if you need a good bank!',\n",
       " 'I was helped by an employee named Jada Needham, and they earned all 5 stars and then some. I went into my chat angry about my situation, but by the end, I was incredibly happy and had my problem completely solved. If these reviews are at all considered when it comes to advancement, I hope the people in charge see this and treat their amazing employee properly.',\n",
       " 'My house is going to be back in the morning and I will not have to wait till the other person I know is a couple of to the money off . ',\n",
       " 'The personal attention and prompt responses made the loan process so easy. Our loan officer has helped us three times now and I would highly recommend her again. ',\n",
       " 'The customer service was amazing. The loan officer Allison Medina was exceptional and would recommend her to anyone. I have had other credit unions but this one beats them all. We were at Rave but gladly switched to here. Great service and awesome credit union and the employees that work here.',\n",
       " 'Quick and Easy.  Very organized with collecting and getting documents signed.',\n",
       " 'Love the round up to savings program and you can use any ATM for free. Very professional, courteous and respectful.',\n",
       " 'Love my bank  they are always really friendly. Great customer service. ',\n",
       " 'I had applied online. The application couldn’t be completed online. I called to see what I needed to do. They said come to the branch. A little while later Stephanie Gallo called me, asked security questions and had everything completed shortly. I didn’t have to go in to the branch.',\n",
       " 'We have several loans with DuGood and they have made the process easy and stress free.  They make you feel like you matter.',\n",
       " 'Sandy Ferrell was our handler and she kept us up to date on all aspects of this loan. I needed help and she was there to guide me to a smooth processing of our loan. She is a very great asset to DuGood.  ',\n",
       " 'Very good bank and good service there staff is very helpful ',\n",
       " 'Great & Quick Service!  Allie was very helpful and friendly!  She had great communication.',\n",
       " 'Very nice young lady that helped me , and professional.I want to say thanks you for letting my family do business with your credit union .',\n",
       " 'The banker service was very professional and polite ',\n",
       " 'You Gave Me Hope Again In Fairness But Much More Can Be Done In Communities Of The People Who Are Hurting!!',\n",
       " 'There are so many amazing people on staff that I can depend on when I have a question or a concern but to name one, Stephanie G. goes above and beyond, always helpful and responds quickly when I have a question or if I’m in a bind. I appreciate her help always!',\n",
       " \"Loan officer Tara was very helpful. She answered all questions thoroughly,  was prompt to respond and made the entire process smooth! She's fantastic (Please honor/reward/award her accordingly!) and because of this experience I will definitely turn to DuGood in the future for ongoing and new banking needs.\",\n",
       " 'They suck the jasper branch committed fraud by lying and stating that someone made an overdraft purchase that never happened then after asking for the statement they give me a fake merchant with no address and a scam phone number. This bank gets a zero rating ',\n",
       " \"I don't believe I have ever felt more welcomed anywhere. Every questioned was answered. Everything was explained to our understanding. We laughed, learned, and conducted business. A very pleasant experience.\",\n",
       " 'This bank is so friendly  staff  is just awesome  raven  Smith is just awesome  blessing  bank manger....always  greeting  is .our car finance  here and  will not bank any where but here',\n",
       " 'Process was very easy. Everyone was very professional and very nice. ',\n",
       " 'I moved matured CD to open an account with higher rate to DuGood.  I was in a time crunch that day due to weather issues and was pleasantly surprised at how easy and fast accomplishing this was.The staff member was more than friendly,helpful and knowledgeable.  I will do the same as other funds become availableIn addition, the Jasper branch is much closer to my home.  Thank you!!!',\n",
       " 'I’m a new customer. I went in today to deposit a check that came in with a previous last name and the teller that assisted me was very courteous and helpful. I had all the paperwork that I needed including my ID so I didn’t encounter any problems. Everything went smoothly and I really appreciate it. I was in and out and about 10/15 minutes at the most, I feel like I made a good choice and choosing to DuGood as my credit union. I needed a local banking institution, a friend recommended Du Good and I’m happy they did! ',\n",
       " 'They were extra helpful in helping me with my issue. I don’t think they could’ve been any one better to help me. They were tremendous ',\n",
       " 'I appreciate the fact that DuGood is still doing business like a small town credit union. I\\'ve been with another CU for almost 25 years and have been thoroughly disappointed due to them changing their business model to going with the \"industry standard\". Getting my vehicle loan done was as easy as it gets. ',\n",
       " \"I went in to refinance a new truck which I had originally financed with GM.  Service was prompt, to the point, and it was easy to achieve my objective.  I didn't feel like there was any wasted time sitting around waiting or with wasted motion in the interview process.  I went into the branch office, got waited on promptly, and completed the deal in a reasonable amount of time.\",\n",
       " 'Everyone was very nice. They have many financial tools available. I look forward to doing business with DuGood in the future. ']"
      ]
     },
     "execution_count": 28,
     "metadata": {},
     "output_type": "execute_result"
    }
   ],
   "source": [
    "reviews_single = [review for sublist in reviews for review in sublist]\n",
    "reviews_single[:30]"
   ]
  },
  {
   "cell_type": "markdown",
   "metadata": {},
   "source": [
    "# 5. Loading Reviews into DataFrame and Scoring"
   ]
  },
  {
   "cell_type": "code",
   "execution_count": 10,
   "metadata": {},
   "outputs": [],
   "source": [
    "df = pd.DataFrame(np.array(reviews_single), columns=['review'])"
   ]
  },
  {
   "cell_type": "code",
   "execution_count": 80,
   "metadata": {},
   "outputs": [
    {
     "data": {
      "text/plain": [
       "'I financed my car through DuGood and I needed to have a account through them. Decided switching banks was easier then having multiple accounts open. Talked with Christy and she was very nice and helpful. She walked me through the whole process and explained everything in a simple and easy way to understand. I got more benefits then I did with my other bank and staff was so much nicer. Thank you Christy! Would recommend doing business here if you need a good bank!'"
      ]
     },
     "execution_count": 80,
     "metadata": {},
     "output_type": "execute_result"
    }
   ],
   "source": [
    "df['review'].iloc[2]"
   ]
  },
  {
   "cell_type": "markdown",
   "metadata": {},
   "source": [
    "#### Creating a function for sentiment calculation"
   ]
  },
  {
   "cell_type": "code",
   "execution_count": 11,
   "metadata": {},
   "outputs": [],
   "source": [
    "def sentiment_score(review):\n",
    "    tokens = tokenizer.encode(review, return_tensors='pt')\n",
    "    result = model(tokens)\n",
    "    return int(torch.argmax(result.logits))+1"
   ]
  },
  {
   "cell_type": "code",
   "execution_count": 82,
   "metadata": {},
   "outputs": [
    {
     "data": {
      "text/plain": [
       "4"
      ]
     },
     "execution_count": 82,
     "metadata": {},
     "output_type": "execute_result"
    }
   ],
   "source": [
    "sentiment_score(df['review'].iloc[1])"
   ]
  },
  {
   "cell_type": "markdown",
   "metadata": {},
   "source": [
    "#### Calculating sentiment score of each reiew and loading newly created sentiments to the dataframe"
   ]
  },
  {
   "cell_type": "code",
   "execution_count": 13,
   "metadata": {},
   "outputs": [],
   "source": [
    "df['sentiment'] = df['review'].apply(lambda x: sentiment_score(x[:512]))"
   ]
  },
  {
   "cell_type": "code",
   "execution_count": 14,
   "metadata": {},
   "outputs": [
    {
     "data": {
      "text/plain": [
       "4"
      ]
     },
     "execution_count": 14,
     "metadata": {},
     "output_type": "execute_result"
    }
   ],
   "source": [
    "df['sentiment'].iloc[56]"
   ]
  },
  {
   "cell_type": "markdown",
   "metadata": {},
   "source": [
    "## We have a dataframe of 421 Reviews with their Sentiment Predictions "
   ]
  },
  {
   "cell_type": "code",
   "execution_count": 15,
   "metadata": {},
   "outputs": [
    {
     "data": {
      "text/plain": [
       "(421, 2)"
      ]
     },
     "execution_count": 15,
     "metadata": {},
     "output_type": "execute_result"
    }
   ],
   "source": [
    "df.shape"
   ]
  },
  {
   "cell_type": "code",
   "execution_count": 16,
   "metadata": {},
   "outputs": [
    {
     "data": {
      "text/html": [
       "<div>\n",
       "<style scoped>\n",
       "    .dataframe tbody tr th:only-of-type {\n",
       "        vertical-align: middle;\n",
       "    }\n",
       "\n",
       "    .dataframe tbody tr th {\n",
       "        vertical-align: top;\n",
       "    }\n",
       "\n",
       "    .dataframe thead th {\n",
       "        text-align: right;\n",
       "    }\n",
       "</style>\n",
       "<table border=\"1\" class=\"dataframe\">\n",
       "  <thead>\n",
       "    <tr style=\"text-align: right;\">\n",
       "      <th></th>\n",
       "      <th>review</th>\n",
       "      <th>sentiment</th>\n",
       "    </tr>\n",
       "  </thead>\n",
       "  <tbody>\n",
       "    <tr>\n",
       "      <th>0</th>\n",
       "      <td>The customer service was amazing. The loan off...</td>\n",
       "      <td>5</td>\n",
       "    </tr>\n",
       "    <tr>\n",
       "      <th>1</th>\n",
       "      <td>I applied for an auto refinancing loan and it ...</td>\n",
       "      <td>4</td>\n",
       "    </tr>\n",
       "    <tr>\n",
       "      <th>2</th>\n",
       "      <td>I financed my car through DuGood and I needed ...</td>\n",
       "      <td>5</td>\n",
       "    </tr>\n",
       "    <tr>\n",
       "      <th>3</th>\n",
       "      <td>I was helped by an employee named Jada Needham...</td>\n",
       "      <td>4</td>\n",
       "    </tr>\n",
       "    <tr>\n",
       "      <th>4</th>\n",
       "      <td>My house is going to be back in the morning an...</td>\n",
       "      <td>3</td>\n",
       "    </tr>\n",
       "  </tbody>\n",
       "</table>\n",
       "</div>"
      ],
      "text/plain": [
       "                                              review  sentiment\n",
       "0  The customer service was amazing. The loan off...          5\n",
       "1  I applied for an auto refinancing loan and it ...          4\n",
       "2  I financed my car through DuGood and I needed ...          5\n",
       "3  I was helped by an employee named Jada Needham...          4\n",
       "4  My house is going to be back in the morning an...          3"
      ]
     },
     "execution_count": 16,
     "metadata": {},
     "output_type": "execute_result"
    }
   ],
   "source": [
    "df.head()"
   ]
  },
  {
   "cell_type": "code",
   "execution_count": 22,
   "metadata": {},
   "outputs": [
    {
     "data": {
      "text/plain": [
       "sentiment\n",
       "5    87.173397\n",
       "4     8.788599\n",
       "3     2.375297\n",
       "1     1.187648\n",
       "2     0.475059\n",
       "Name: proportion, dtype: float64"
      ]
     },
     "execution_count": 22,
     "metadata": {},
     "output_type": "execute_result"
    }
   ],
   "source": [
    "df.sentiment.value_counts(normalize=True)*100"
   ]
  },
  {
   "cell_type": "code",
   "execution_count": 25,
   "metadata": {},
   "outputs": [
    {
     "data": {
      "image/png": "[encoded data removed]",
      "text/plain": [
       "<Figure size 800x600 with 1 Axes>"
      ]
     },
     "metadata": {},
     "output_type": "display_data"
    }
   ],
   "source": [
    "import seaborn as sns\n",
    "import matplotlib.pyplot as plt\n",
    "sns.set()\n",
    "\n",
    "# Calculate the percentages for each category\n",
    "total = float(len(df))  \n",
    "\n",
    "plt.figure(figsize=(8, 6))\n",
    "ax = sns.countplot(x='sentiment', data=df)  \n",
    "\n",
    "# Iterate through each bar's height and add the percentage\n",
    "for p in ax.patches:\n",
    "    height = p.get_height()  \n",
    "    ax.text(p.get_x() + p.get_width() / 2., height+3, '{:.2%}'.format(height/total), ha=\"center\")\n",
    "\n",
    "plt.show()"
   ]
  },
  {
   "cell_type": "code",
   "execution_count": null,
   "metadata": {},
   "outputs": [],
   "source": []
  }
 ],
 "metadata": {
  "kernelspec": {
   "display_name": "Python 3 (ipykernel)",
   "language": "python",
   "name": "python3"
  },
  "language_info": {
   "codemirror_mode": {
    "name": "ipython",
    "version": 3
   },
   "file_extension": ".py",
   "mimetype": "text/x-python",
   "name": "python",
   "nbconvert_exporter": "python",
   "pygments_lexer": "ipython3",
   "version": "3.10.13"
  }
 },
 "nbformat": 4,
 "nbformat_minor": 2
}
