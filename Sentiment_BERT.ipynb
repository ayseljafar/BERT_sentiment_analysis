{
 "cells": [
  {
   "cell_type": "markdown",
   "metadata": {},
   "source": [
    "# 1. Installing and Importing Dependencies"
   ]
  },
  {
   "cell_type": "code",
   "execution_count": 1,
   "metadata": {},
   "outputs": [],
   "source": [
    "from transformers import AutoTokenizer, AutoModelForSequenceClassification\n",
    "import torch\n",
    "import requests\n",
    "from bs4 import BeautifulSoup\n",
    "import re"
   ]
  },
  {
   "cell_type": "code",
   "execution_count": 21,
   "metadata": {},
   "outputs": [],
   "source": [
    "import numpy as np\n",
    "import pandas as pd"
   ]
  },
  {
   "cell_type": "markdown",
   "metadata": {},
   "source": [
    "# 2. Instantiating Model"
   ]
  },
  {
   "cell_type": "code",
   "execution_count": 2,
   "metadata": {},
   "outputs": [
    {
     "name": "stderr",
     "output_type": "stream",
     "text": [
      "/Users/ayseljafarova/anaconda3/envs/newenv/lib/python3.10/site-packages/huggingface_hub/file_download.py:1132: FutureWarning: `resume_download` is deprecated and will be removed in version 1.0.0. Downloads always resume when possible. If you want to force a new download, use `force_download=True`.\n",
      "  warnings.warn(\n"
     ]
    },
    {
     "data": {
      "application/vnd.jupyter.widget-view+json": {
       "model_id": "4580340375a846c7b89ba5358eab6ef5",
       "version_major": 2,
       "version_minor": 0
      },
      "text/plain": [
       "tokenizer_config.json:   0%|          | 0.00/39.0 [00:00<?, ?B/s]"
      ]
     },
     "metadata": {},
     "output_type": "display_data"
    },
    {
     "data": {
      "application/vnd.jupyter.widget-view+json": {
       "model_id": "5d5f939614114b6e89c34b133037a5a4",
       "version_major": 2,
       "version_minor": 0
      },
      "text/plain": [
       "config.json:   0%|          | 0.00/953 [00:00<?, ?B/s]"
      ]
     },
     "metadata": {},
     "output_type": "display_data"
    },
    {
     "data": {
      "application/vnd.jupyter.widget-view+json": {
       "model_id": "952995de2f61478290062fb8e0521350",
       "version_major": 2,
       "version_minor": 0
      },
      "text/plain": [
       "vocab.txt:   0%|          | 0.00/872k [00:00<?, ?B/s]"
      ]
     },
     "metadata": {},
     "output_type": "display_data"
    },
    {
     "data": {
      "application/vnd.jupyter.widget-view+json": {
       "model_id": "1f8eb7a487f048f98c1de6904c425e18",
       "version_major": 2,
       "version_minor": 0
      },
      "text/plain": [
       "special_tokens_map.json:   0%|          | 0.00/112 [00:00<?, ?B/s]"
      ]
     },
     "metadata": {},
     "output_type": "display_data"
    },
    {
     "name": "stderr",
     "output_type": "stream",
     "text": [
      "/Users/ayseljafarova/anaconda3/envs/newenv/lib/python3.10/site-packages/huggingface_hub/file_download.py:1132: FutureWarning: `resume_download` is deprecated and will be removed in version 1.0.0. Downloads always resume when possible. If you want to force a new download, use `force_download=True`.\n",
      "  warnings.warn(\n"
     ]
    },
    {
     "data": {
      "application/vnd.jupyter.widget-view+json": {
       "model_id": "d66a0dbad0984c0085643511800db155",
       "version_major": 2,
       "version_minor": 0
      },
      "text/plain": [
       "pytorch_model.bin:   0%|          | 0.00/669M [00:00<?, ?B/s]"
      ]
     },
     "metadata": {},
     "output_type": "display_data"
    }
   ],
   "source": [
    "tokenizer = AutoTokenizer.from_pretrained('nlptown/bert-base-multilingual-uncased-sentiment')\n",
    "\n",
    "model = AutoModelForSequenceClassification.from_pretrained('nlptown/bert-base-multilingual-uncased-sentiment')"
   ]
  },
  {
   "cell_type": "markdown",
   "metadata": {},
   "source": [
    "# 3. Encoding and Calculating random Sentiment"
   ]
  },
  {
   "cell_type": "code",
   "execution_count": 3,
   "metadata": {},
   "outputs": [],
   "source": [
    "tokens = tokenizer.encode('It was good but couldve been better. Great', return_tensors='pt')"
   ]
  },
  {
   "cell_type": "code",
   "execution_count": 4,
   "metadata": {},
   "outputs": [],
   "source": [
    "result = model(tokens)"
   ]
  },
  {
   "cell_type": "code",
   "execution_count": 5,
   "metadata": {},
   "outputs": [
    {
     "data": {
      "text/plain": [
       "tensor([[-2.7768, -1.2353,  1.4419,  1.9804,  0.4584]],\n",
       "       grad_fn=<AddmmBackward0>)"
      ]
     },
     "execution_count": 5,
     "metadata": {},
     "output_type": "execute_result"
    }
   ],
   "source": [
    "result.logits"
   ]
  },
  {
   "cell_type": "code",
   "execution_count": 6,
   "metadata": {},
   "outputs": [
    {
     "data": {
      "text/plain": [
       "4"
      ]
     },
     "execution_count": 6,
     "metadata": {},
     "output_type": "execute_result"
    }
   ],
   "source": [
    "int(torch.argmax(result.logits))+1"
   ]
  },
  {
   "cell_type": "markdown",
   "metadata": {},
   "source": [
    "# 4. Collecting Reviews from Trustpilot"
   ]
  },
  {
   "cell_type": "code",
   "execution_count": 89,
   "metadata": {},
   "outputs": [],
   "source": [
    "urls = [\"https://www.trustpilot.com/review/www.dugood.org\",\n",
    "       \"https://www.trustpilot.com/review/www.dugood.org?page=2\",\n",
    "       \"https://www.trustpilot.com/review/www.dugood.org?page=3\",\n",
    "       \"https://www.trustpilot.com/review/www.dugood.org?page=4\",\n",
    "       \"https://www.trustpilot.com/review/www.dugood.org?page=5\",\n",
    "       \"https://www.trustpilot.com/review/www.dugood.org?page=6\",\n",
    "       \"https://www.trustpilot.com/review/www.dugood.org?page=7\",\n",
    "       \"https://www.trustpilot.com/review/www.dugood.org?page=8\"]\n",
    "\n",
    "reviews =[]\n",
    "\n",
    "for url in urls: \n",
    "    r = requests.get(url)\n",
    "    soup = BeautifulSoup(r.text, 'html.parser')\n",
    "    regex = re.compile('.*typography_color-black__5LYEn.*')\n",
    "    results = soup.find_all('p', {'class':regex})\n",
    "    review = [result.text for result in results]\n",
    "    reviews.append(review)"
   ]
  },
  {
   "cell_type": "markdown",
   "metadata": {},
   "source": [
    "#### Converting reviews list of list to a single list"
   ]
  },
  {
   "cell_type": "code",
   "execution_count": 90,
   "metadata": {},
   "outputs": [
    {
     "data": {
      "text/plain": [
       "['The customer service was amazing. The loan officer Allison Medina was exceptional and would recommend her to anyone. I have had other credit unions but this one beats them all. We were at Rave but gladly switched to here. Great service and awesome credit union and the employees that work here.',\n",
       " 'I applied for an auto refinancing loan and it was processed the same day. Tracy at the Beaumont Eastex Freeway location was walked me through the process and was extremely helpful, friendly and professional. I couldn’t have been more pleased. ',\n",
       " 'I financed my car through DuGood and I needed to have a account through them. Decided switching banks was easier then having multiple accounts open. Talked with Christy and she was very nice and helpful. She walked me through the whole process and explained everything in a simple and easy way to understand. I got more benefits then I did with my other bank and staff was so much nicer. Thank you Christy! Would recommend doing business here if you need a good bank!',\n",
       " 'I was helped by an employee named Jada Needham, and they earned all 5 stars and then some. I went into my chat angry about my situation, but by the end, I was incredibly happy and had my problem completely solved. If these reviews are at all considered when it comes to advancement, I hope the people in charge see this and treat their amazing employee properly.',\n",
       " 'My house is going to be back in the morning and I will not have to wait till the other person I know is a couple of to the money off . ',\n",
       " 'The personal attention and prompt responses made the loan process so easy. Our loan officer has helped us three times now and I would highly recommend her again. ',\n",
       " 'The customer service was amazing. The loan officer Allison Medina was exceptional and would recommend her to anyone. I have had other credit unions but this one beats them all. We were at Rave but gladly switched to here. Great service and awesome credit union and the employees that work here.',\n",
       " 'Quick and Easy.  Very organized with collecting and getting documents signed.',\n",
       " 'Love the round up to savings program and you can use any ATM for free. Very professional, courteous and respectful.',\n",
       " 'Love my bank  they are always really friendly. Great customer service. ',\n",
       " 'I had applied online. The application couldn’t be completed online. I called to see what I needed to do. They said come to the branch. A little while later Stephanie Gallo called me, asked security questions and had everything completed shortly. I didn’t have to go in to the branch.',\n",
       " 'We have several loans with DuGood and they have made the process easy and stress free.  They make you feel like you matter.',\n",
       " 'Sandy Ferrell was our handler and she kept us up to date on all aspects of this loan. I needed help and she was there to guide me to a smooth processing of our loan. She is a very great asset to DuGood.  ',\n",
       " 'Very good bank and good service there staff is very helpful ',\n",
       " 'Great & Quick Service!  Allie was very helpful and friendly!  She had great communication.',\n",
       " 'Very nice young lady that helped me , and professional.I want to say thanks you for letting my family do business with your credit union .',\n",
       " 'The banker service was very professional and polite ',\n",
       " 'You Gave Me Hope Again In Fairness But Much More Can Be Done In Communities Of The People Who Are Hurting!!',\n",
       " 'There are so many amazing people on staff that I can depend on when I have a question or a concern but to name one, Stephanie G. goes above and beyond, always helpful and responds quickly when I have a question or if I’m in a bind. I appreciate her help always!',\n",
       " \"Loan officer Tara was very helpful. She answered all questions thoroughly,  was prompt to respond and made the entire process smooth! She's fantastic (Please honor/reward/award her accordingly!) and because of this experience I will definitely turn to DuGood in the future for ongoing and new banking needs.\",\n",
       " 'They suck the jasper branch committed fraud by lying and stating that someone made an overdraft purchase that never happened then after asking for the statement they give me a fake merchant with no address and a scam phone number. This bank gets a zero rating ',\n",
       " \"I don't believe I have ever felt more welcomed anywhere. Every questioned was answered. Everything was explained to our understanding. We laughed, learned, and conducted business. A very pleasant experience.\",\n",
       " 'This bank is so friendly  staff  is just awesome  raven  Smith is just awesome  blessing  bank manger....always  greeting  is .our car finance  here and  will not bank any where but here',\n",
       " 'Process was very easy. Everyone was very professional and very nice. ',\n",
       " 'I moved matured CD to open an account with higher rate to DuGood.  I was in a time crunch that day due to weather issues and was pleasantly surprised at how easy and fast accomplishing this was.The staff member was more than friendly,helpful and knowledgeable.  I will do the same as other funds become availableIn addition, the Jasper branch is much closer to my home.  Thank you!!!',\n",
       " 'I’m a new customer. I went in today to deposit a check that came in with a previous last name and the teller that assisted me was very courteous and helpful. I had all the paperwork that I needed including my ID so I didn’t encounter any problems. Everything went smoothly and I really appreciate it. I was in and out and about 10/15 minutes at the most, I feel like I made a good choice and choosing to DuGood as my credit union. I needed a local banking institution, a friend recommended Du Good and I’m happy they did! ',\n",
       " 'They were extra helpful in helping me with my issue. I don’t think they could’ve been any one better to help me. They were tremendous ',\n",
       " 'I appreciate the fact that DuGood is still doing business like a small town credit union. I\\'ve been with another CU for almost 25 years and have been thoroughly disappointed due to them changing their business model to going with the \"industry standard\". Getting my vehicle loan done was as easy as it gets. ',\n",
       " \"I went in to refinance a new truck which I had originally financed with GM.  Service was prompt, to the point, and it was easy to achieve my objective.  I didn't feel like there was any wasted time sitting around waiting or with wasted motion in the interview process.  I went into the branch office, got waited on promptly, and completed the deal in a reasonable amount of time.\",\n",
       " 'Everyone was very nice. They have many financial tools available. I look forward to doing business with DuGood in the future. ',\n",
       " 'Best CD interest rate available and customer friendly!!!',\n",
       " 'From the time a person walks in the door of DuGood C.U. they are welcomed, every employee is professional and takes care of business in a timely manner. ',\n",
       " 'It’s important to note that a company like this is performing superbly by closing deals and giving out credits to customers to stand ',\n",
       " 'Kinzie was so easy to talk to! She listened to me very great people personality!& very thorough.',\n",
       " 'Kristin was so easy to work with, responsive and friendly!!',\n",
       " 'My wife and I had to manage one of our accounts, and the employee that helped us was very nice, knowledgeable, and helpful.  Her name was Rebeka, she works in DuGood on Major Drive in Beaumont, TX We do hope she will be recognized, she does represent your credit union very well.',\n",
       " 'Great customer service setting up new accounts. Spent the time necessary to fully explain options that DuGoodFCU had to offer.  Thanks Kim D.',\n",
       " 'I give Dugood five stars based on their customer service. Friendly attitudes, and helpful advice on how to improve my credit to get the things I want.',\n",
       " 'Can we begin with the amount of time it took only about 15-20 minutes. That’s the best part! The teller that assisted us was very helpful she went above and beyond to make sure my student knew the ins and outs to his new account! She helped him to setup everything so that he would only have to go through the process one time, and explained the many perks he would have with his new account! We are thankful for DuGood making the process so easy and simple! ',\n",
       " \"The handling of my vehicle refinancing from 100 miles away could not have gone any smoother than what I experienced. I've been a member for close to 40 years and I have never had a bad experience. \",\n",
       " 'Makenze was very helpful throughout the whole process of setting up my new account. Highly recommend.',\n",
       " 'I have banked with DuGood for several years. Their customer service is excellent. I just recently made a car purchase and my loan officer made the process so much easier.',\n",
       " 'Wendee Ashmore was great helping me with the information I needed and helping me to get everything set up.Everyone at the Orange location was very nice ',\n",
       " \"Kennedie C. Took care of me on this recent loan. She was down to earth and my conversations with her were very friendly and she conveyed real sympathy for me and my situation.  I felt I had a new friend. I have also  dealt with the other loan officers and tellers for years and they have always been friendly,  down home and helpful as well.  She's a shining star as all are at the  Nederland office on Nederland Avenue. She and all there are very helpful. \",\n",
       " 'The bank receptionist was extremely professional and very clear about the perks that  DuGood CU offers I really appreciate it.',\n",
       " 'The banker that opened my account, she was great. I am looking forwatd to enjoying being a customer.',\n",
       " 'You feel safe and secure ',\n",
       " 'Caron and the teller (I do not remember her name...I was upset with what happened at another branch...they were very calm and extremely helpful...I ended up opening a new account with DuGood. ',\n",
       " 'Harlee,  was so great to work with. Did everything online and was patient working with us while husband was working nights. Always our go to credit union.',\n",
       " 'I have a account with Chase and have for a long time and have seen times when we couldn’t access our account and I have heard good things about y’all and just wanted to open another account to be on the safe side.',\n",
       " 'Very fast, very friendly, very knowledgeable. Looking forward to doing business with DuGood Credit Union. ',\n",
       " 'We were treated with the utmost respect and professionalism, thank you!',\n",
       " 'Allison Medina was an absolute Angel to work with.  So patient, kind, and respectful of an elderly person.  What a pleasure. ',\n",
       " 'From walking in the door to leaving, everyone that I dealt with was very welcoming and friendly. I was pleased with the help and knowledge that I walked out with. I would recommend to family and friends',\n",
       " 'Mrs Cara was very helpful and answered all my question about getting loan.  She replied to all my text or call in a matter of minutes. I would recommend using Dugood,  probably the best rate in town. ',\n",
       " 'Great service, nice people, and very convenient. I never ever had to leave my office! Awesome job. I will be using Dugood from now on!',\n",
       " 'Friendliness of the staffing and knowledge of the type of accounts at DuGood.',\n",
       " 'Did a new car refinance Genise Griffin was very helpful and did a GREAT jobI live in Louisiana and we doing a lot of the work over the phone and text and emails She was there throughout the whole process and made sure everything went smoothly THANK YOU GENISE',\n",
       " 'I can’t remember her name but it starts with a K.. She was so nice and kind and sweet she was able to open me an account and set up my direct deposit right then and there not only that she also helped me with my deposit she is the best and I love her her office is the first one when you walk in to the left and the customer service was great everyone spoke while entering the bank they also said have a great day when we were leaving I love it!!!!!',\n",
       " 'DuGood has always been good people to deal with; professional and polite, as well as, kind.  When I had to close my account and open a new one - the only negative comment I can make is they didn\\'t tell me the suffix for ACH payments (for my bills) had been changed from 010 to 009; therefore, when I changed all my payment methods, I used what I had always used - 010 and my bill payments got returned.  Then when they set up my three accounts to transfer between them - they didn\\'t tell me that you have to click a tab called \"Move Money\".  In the past I have always seen all the different accounts on the same page as the checking and savings, loans, etc.  So - they need to include those two pieces of information - especially with long established customers.  It took getting in touch with the lady over the digital dept. to tell me when it should have been customer service.  Otherwise, everything was great and I thank you all.  ',\n",
       " 'Everybody there was determined to assist me in opening a new account.',\n",
       " 'The loan officer was so nice and friendly',\n",
       " \"Dugood explains and walks me through anything online business. The older generation isn't as knowledgeable with internet.Dugood has the patience and it is much appreciated!!!\",\n",
       " 'Ms JoDeji she was very helpful. She also was patient and was able to answer all of my questions and detailed about my the bank account.',\n",
       " 'The communication and the friendly atmosphere. Making sure we were completely satisfied with opening our new account. ',\n",
       " 'The employees in the jasper branch made my experience a great one and was able to assist me with everything i needed in a timely manner and a smile.',\n",
       " 'The service was wonderful and they help make sure you know every aspect of what to expect when you open a new account.',\n",
       " 'First time in my life I ever open a credit union in my name I think this is going to work for me to be a better person in life I was welcome in the vidor location ',\n",
       " 'Very helpful.  Calls back when she says',\n",
       " 'The entire staff was pleasant and very helpful. Opening my account was easy, and Deanna Cudd made the whole process seamless.',\n",
       " 'Everyone was such a joy and just couldn’t do enough to help you. Also would not let the call end until they have answered all your questions and concerns. Recommend ',\n",
       " 'I had a very good experience working with DuGood Credit Union on the purchase of my new vehicle from Weaver Motors in Kirbyville would recommend them to all my friends ',\n",
       " 'We were kept informed on every step of the pro ess',\n",
       " 'Always have a confidence that DuGood will do their best to help the customers.',\n",
       " 'Dugood beat Can-Am’s interest rate and I was able to do everything over the phone including the signing process. ',\n",
       " 'Raven was super sweet and informative! Go see her for your banking needs!',\n",
       " 'Very knowledgeable personnel. Explained everything in detail and was quick and very courteous. ',\n",
       " \"Miss Jacob's is always very professional, courteous, and helpful. I always have a great experience any time I need help. \",\n",
       " 'The staff at Dugood was very responsive and helpful,  they made doing business very pleasant. ',\n",
       " 'Rachel and Bernadette were really nice and great at explaining and going over the papers. ',\n",
       " 'I went there to open two accounts, I was helped right away. I was helped by a lady named Rebeca Anzaldug she was very helpful and I was out of there shortly. I was very happy with the service.',\n",
       " 'The person made it very enjoyable easy to understand what she was doing gave me all the information that I needed was a great experience.',\n",
       " 'I had a great experience! ',\n",
       " 'I was greeted warmly upon entrance , they gave great customer service and are very swift ',\n",
       " 'Every thing was to fast. really good experience they reduce mi interest and put the monthly payment as I need it. thanks ',\n",
       " 'Over all JoDeja at the Dowlen location was the most laid back person I could of done this process with. She was easy to talk to and got the job done is a good amount of time. Ten out of ten.',\n",
       " 'Just moved to Baytown and first time to visit Credit union. My visit was a pleasant one.',\n",
       " 'Very quick but everything was explained to me very good experience ',\n",
       " ' it is the best branch in this city.',\n",
       " 'Everyone was very pleasant and friendly.  Very knowledgeable of your services.  ',\n",
       " 'The company is very professional and all they do they serve without any hassles ',\n",
       " 'Very friendly and helpful never had to go into a branch did everything over the phone and email. ',\n",
       " 'Great Staff, Friendly Faces ,Prompt Service I Love My Dugood Credit Union. They Take Good Care Of Me. Sheena Boykin ',\n",
       " 'This is not my first loan with DuGood, and every time I have made a loan here it has always been easy and fast.',\n",
       " 'Have done business with DuGood for 17 years, Always received good service. Very Happy.',\n",
       " 'Tara Baloney is a great loan manager. She comes through almost every time.',\n",
       " 'Katrina had my loan processed in less than 45 minutes! She was awesome! Everyone in the Jasper branch are very friendly.',\n",
       " 'Good service when I visit the branch fast and efficient. ',\n",
       " 'The bank representatives (on phone and in person) were very friendly and helpful.',\n",
       " 'The young woman that helped me start my account was very helpful and informative explaining the services that where available to me answering any questions.',\n",
       " 'People were friendly and professional. Eager to help.',\n",
       " 'Kenzie was a great help to me setting up my financing!',\n",
       " 'The entire process was quick and easy and couldn’t have been more smoother. ',\n",
       " 'The friendly staff and readiness to help and get me started ',\n",
       " 'Everyone was very helpful and nice throughout the whole process ',\n",
       " 'excellent service!     Thank You',\n",
       " 'It was all so easy. Everyone I spoke to was polite and considerate of my time and my needs. ',\n",
       " 'Great customer service.  Very prompt and efficient.',\n",
       " 'Timely responses, knowledgeable personnel and low rates.',\n",
       " 'Very Good service. recomended from my side ',\n",
       " 'I already had much experience with the app',\n",
       " 'Financing was quick and easy ',\n",
       " 'I recommend DuGood Credit Union for its solid reputation for exceptional customer service, a wide range of financial products, competitive rates, and an intuitive online platform. Its dedication to security and technological innovation also makes it an excellent choice for those seeking a reliable and modern financial institution.',\n",
       " 'When I walk in I was greeted with a smile and good morning how can we help you today ',\n",
       " 'They be good to . Think you ',\n",
       " 'Great customer service. They answer any questions we have without hesitation. ',\n",
       " 'Cara made the process as simple and smooth as possible. ',\n",
       " 'Great customer service ',\n",
       " 'Amazing friendly service. Quick easy to the point help. Got in and got out. With what I wanted. It was one of the easiest loan processes I have done at a bank. ',\n",
       " 'Everything was perfect. She explained everything great.',\n",
       " 'Very helpful on any request..very nice and considerate',\n",
       " 'Simple process with friendly customer service',\n",
       " 'Thanks to the Jasper Branch for making my loan process easy and simple.A++++++ service!!!!',\n",
       " 'I had a great experience opening a free account good customer service ',\n",
       " 'The new account lady was nice and walked me through everything. ',\n",
       " 'Great customer service from walking in the credit union to leaving out just Great environment ',\n",
       " 'It was a good experience ',\n",
       " 'Loan officer was real courteous ',\n",
       " 'No wait and great customer service. All the help I needed. ',\n",
       " 'Kennedie was very quick and helpful. ',\n",
       " 'This App is really useful and easy to use even for new users ',\n",
       " 'The lady that helped me was very sweet. I felt good when I left the bank.  I hope to be a life long member.   Thank you DuGood',\n",
       " 'Really easy to deal with just made one phone call and deal was done.Thanks Joey ',\n",
       " 'Melissa was so helpful and she made the process fast and easy',\n",
       " 'Fast and friendly service. No delay or complaints.',\n",
       " 'Signature Loan was very easy ',\n",
       " 'Very helpful and easy to set a loan up with. ',\n",
       " 'The clerk helped me as much as she possibly could .',\n",
       " 'Requests and paperwork was prompt in receiving',\n",
       " 'Everyone was so nice and so helpful. Loved it. ',\n",
       " 'Fast, efficient and easy process.  ',\n",
       " 'This is great bank of us. We are so happy that we are amember of this bank',\n",
       " 'Everything was ready when we arrived to close. ',\n",
       " 'Great customer service l',\n",
       " 'Awesome and friendly people',\n",
       " 'Great service ',\n",
       " 'Very good , a very good way of learning new things',\n",
       " 'This is the best among all others ',\n",
       " 'They are always friendly and fast! ',\n",
       " 'It was absolutely amazing, timely, our representative was professional and knowledgeable! ',\n",
       " 'Very professional and friendly ']"
      ]
     },
     "execution_count": 90,
     "metadata": {},
     "output_type": "execute_result"
    }
   ],
   "source": [
    "reviews_single = [review for sublist in reviews for review in sublist]\n",
    "reviews_single"
   ]
  },
  {
   "cell_type": "markdown",
   "metadata": {},
   "source": [
    "# 5. Loading Reviews into DataFrame and Scoring"
   ]
  },
  {
   "cell_type": "code",
   "execution_count": 91,
   "metadata": {},
   "outputs": [],
   "source": [
    "df = pd.DataFrame(np.array(reviews_single), columns=['review'])"
   ]
  },
  {
   "cell_type": "code",
   "execution_count": 80,
   "metadata": {},
   "outputs": [
    {
     "data": {
      "text/plain": [
       "'I financed my car through DuGood and I needed to have a account through them. Decided switching banks was easier then having multiple accounts open. Talked with Christy and she was very nice and helpful. She walked me through the whole process and explained everything in a simple and easy way to understand. I got more benefits then I did with my other bank and staff was so much nicer. Thank you Christy! Would recommend doing business here if you need a good bank!'"
      ]
     },
     "execution_count": 80,
     "metadata": {},
     "output_type": "execute_result"
    }
   ],
   "source": [
    "df['review'].iloc[2]"
   ]
  },
  {
   "cell_type": "markdown",
   "metadata": {},
   "source": [
    "#### Creating a function for sentiment calculation"
   ]
  },
  {
   "cell_type": "code",
   "execution_count": 92,
   "metadata": {},
   "outputs": [],
   "source": [
    "def sentiment_score(review):\n",
    "    tokens = tokenizer.encode(review, return_tensors='pt')\n",
    "    result = model(tokens)\n",
    "    return int(torch.argmax(result.logits))+1"
   ]
  },
  {
   "cell_type": "code",
   "execution_count": 82,
   "metadata": {},
   "outputs": [
    {
     "data": {
      "text/plain": [
       "4"
      ]
     },
     "execution_count": 82,
     "metadata": {},
     "output_type": "execute_result"
    }
   ],
   "source": [
    "sentiment_score(df['review'].iloc[1])"
   ]
  },
  {
   "cell_type": "markdown",
   "metadata": {},
   "source": [
    "#### Calculating sentiment score of each reiew and loading newly created sentiments to the dataframe"
   ]
  },
  {
   "cell_type": "code",
   "execution_count": 93,
   "metadata": {},
   "outputs": [],
   "source": [
    "df['sentiment'] = df['review'].apply(lambda x: sentiment_score(x[:512]))"
   ]
  },
  {
   "cell_type": "code",
   "execution_count": 88,
   "metadata": {},
   "outputs": [
    {
     "data": {
      "text/plain": [
       "4"
      ]
     },
     "execution_count": 88,
     "metadata": {},
     "output_type": "execute_result"
    }
   ],
   "source": [
    "df['sentiment'].iloc[56]"
   ]
  },
  {
   "cell_type": "markdown",
   "metadata": {},
   "source": [
    "## Now we have a dataframe of 151 Reviews with their Sentiment Predictions as a column"
   ]
  },
  {
   "cell_type": "code",
   "execution_count": 94,
   "metadata": {},
   "outputs": [
    {
     "data": {
      "text/plain": [
       "(151, 2)"
      ]
     },
     "execution_count": 94,
     "metadata": {},
     "output_type": "execute_result"
    }
   ],
   "source": [
    "df.shape"
   ]
  },
  {
   "cell_type": "code",
   "execution_count": 95,
   "metadata": {},
   "outputs": [
    {
     "data": {
      "text/html": [
       "<div>\n",
       "<style scoped>\n",
       "    .dataframe tbody tr th:only-of-type {\n",
       "        vertical-align: middle;\n",
       "    }\n",
       "\n",
       "    .dataframe tbody tr th {\n",
       "        vertical-align: top;\n",
       "    }\n",
       "\n",
       "    .dataframe thead th {\n",
       "        text-align: right;\n",
       "    }\n",
       "</style>\n",
       "<table border=\"1\" class=\"dataframe\">\n",
       "  <thead>\n",
       "    <tr style=\"text-align: right;\">\n",
       "      <th></th>\n",
       "      <th>review</th>\n",
       "      <th>sentiment</th>\n",
       "    </tr>\n",
       "  </thead>\n",
       "  <tbody>\n",
       "    <tr>\n",
       "      <th>0</th>\n",
       "      <td>The customer service was amazing. The loan off...</td>\n",
       "      <td>5</td>\n",
       "    </tr>\n",
       "    <tr>\n",
       "      <th>1</th>\n",
       "      <td>I applied for an auto refinancing loan and it ...</td>\n",
       "      <td>4</td>\n",
       "    </tr>\n",
       "    <tr>\n",
       "      <th>2</th>\n",
       "      <td>I financed my car through DuGood and I needed ...</td>\n",
       "      <td>5</td>\n",
       "    </tr>\n",
       "    <tr>\n",
       "      <th>3</th>\n",
       "      <td>I was helped by an employee named Jada Needham...</td>\n",
       "      <td>4</td>\n",
       "    </tr>\n",
       "    <tr>\n",
       "      <th>4</th>\n",
       "      <td>My house is going to be back in the morning an...</td>\n",
       "      <td>3</td>\n",
       "    </tr>\n",
       "  </tbody>\n",
       "</table>\n",
       "</div>"
      ],
      "text/plain": [
       "                                              review  sentiment\n",
       "0  The customer service was amazing. The loan off...          5\n",
       "1  I applied for an auto refinancing loan and it ...          4\n",
       "2  I financed my car through DuGood and I needed ...          5\n",
       "3  I was helped by an employee named Jada Needham...          4\n",
       "4  My house is going to be back in the morning an...          3"
      ]
     },
     "execution_count": 95,
     "metadata": {},
     "output_type": "execute_result"
    }
   ],
   "source": [
    "df.head()"
   ]
  }
 ],
 "metadata": {
  "kernelspec": {
   "display_name": "Python 3 (ipykernel)",
   "language": "python",
   "name": "python3"
  },
  "language_info": {
   "codemirror_mode": {
    "name": "ipython",
    "version": 3
   },
   "file_extension": ".py",
   "mimetype": "text/x-python",
   "name": "python",
   "nbconvert_exporter": "python",
   "pygments_lexer": "ipython3",
   "version": "3.10.13"
  }
 },
 "nbformat": 4,
 "nbformat_minor": 2
}
