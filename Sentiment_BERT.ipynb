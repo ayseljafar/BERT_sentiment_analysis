{
 "cells": [
  {
   "cell_type": "markdown",
   "metadata": {},
   "source": [
    "# 1. Installing and Importing Dependencies"
   ]
  },
  {
   "cell_type": "code",
   "execution_count": 1,
   "metadata": {},
   "outputs": [],
   "source": [
    "from transformers import AutoTokenizer, AutoModelForSequenceClassification\n",
    "import torch\n",
    "import requests\n",
    "from bs4 import BeautifulSoup\n",
    "import re"
   ]
  },
  {
   "cell_type": "code",
   "execution_count": 2,
   "metadata": {},
   "outputs": [],
   "source": [
    "import numpy as np\n",
    "import pandas as pd"
   ]
  },
  {
   "cell_type": "markdown",
   "metadata": {},
   "source": [
    "# 2. Instantiating Model"
   ]
  },
  {
   "cell_type": "code",
   "execution_count": 4,
   "metadata": {},
   "outputs": [
    {
     "name": "stderr",
     "output_type": "stream",
     "text": [
      "/Users/ayseljafarova/anaconda3/envs/newenv/lib/python3.10/site-packages/huggingface_hub/file_download.py:1132: FutureWarning: `resume_download` is deprecated and will be removed in version 1.0.0. Downloads always resume when possible. If you want to force a new download, use `force_download=True`.\n",
      "  warnings.warn(\n"
     ]
    }
   ],
   "source": [
    "tokenizer = AutoTokenizer.from_pretrained('nlptown/bert-base-multilingual-uncased-sentiment')\n",
    "\n",
    "model = AutoModelForSequenceClassification.from_pretrained('nlptown/bert-base-multilingual-uncased-sentiment')"
   ]
  },
  {
   "cell_type": "markdown",
   "metadata": {},
   "source": [
    "# 3. Encoding and Calculating random Sentiment"
   ]
  },
  {
   "cell_type": "code",
   "execution_count": 5,
   "metadata": {},
   "outputs": [],
   "source": [
    "tokens = tokenizer.encode('It was good but couldve been better. Great', return_tensors='pt')"
   ]
  },
  {
   "cell_type": "code",
   "execution_count": 6,
   "metadata": {},
   "outputs": [],
   "source": [
    "result = model(tokens)"
   ]
  },
  {
   "cell_type": "code",
   "execution_count": 5,
   "metadata": {},
   "outputs": [
    {
     "data": {
      "text/plain": [
       "tensor([[-2.7768, -1.2353,  1.4419,  1.9804,  0.4584]],\n",
       "       grad_fn=<AddmmBackward0>)"
      ]
     },
     "execution_count": 5,
     "metadata": {},
     "output_type": "execute_result"
    }
   ],
   "source": [
    "result.logits"
   ]
  },
  {
   "cell_type": "code",
   "execution_count": 6,
   "metadata": {},
   "outputs": [
    {
     "data": {
      "text/plain": [
       "4"
      ]
     },
     "execution_count": 6,
     "metadata": {},
     "output_type": "execute_result"
    }
   ],
   "source": [
    "int(torch.argmax(result.logits))+1"
   ]
  },
  {
   "cell_type": "markdown",
   "metadata": {},
   "source": [
    "# 4. Collecting Reviews from Trustpilot"
   ]
  },
  {
   "cell_type": "code",
   "execution_count": 8,
   "metadata": {},
   "outputs": [],
   "source": [
    "urls = [\"https://www.trustpilot.com/review/www.dugood.org\",\n",
    "       \"https://www.trustpilot.com/review/www.dugood.org?page=2\",\n",
    "       \"https://www.trustpilot.com/review/www.dugood.org?page=3\",\n",
    "       \"https://www.trustpilot.com/review/www.dugood.org?page=4\",\n",
    "       \"https://www.trustpilot.com/review/www.dugood.org?page=5\",\n",
    "       \"https://www.trustpilot.com/review/www.dugood.org?page=6\",\n",
    "       \"https://www.trustpilot.com/review/www.dugood.org?page=7\",\n",
    "       \"https://www.trustpilot.com/review/www.dugood.org?page=8\",\n",
    "       \"https://www.trustpilot.com/review/www.dugood.org?page=9\",\n",
    "       \"https://www.trustpilot.com/review/www.dugood.org?page=10\",\n",
    "       \"https://www.trustpilot.com/review/www.dugood.org?page=11\",\n",
    "       \"https://www.trustpilot.com/review/www.dugood.org?page=12\",\n",
    "       \"https://www.trustpilot.com/review/www.dugood.org?page=13\",\n",
    "       \"https://www.trustpilot.com/review/www.dugood.org?page=14\",\n",
    "       \"https://www.trustpilot.com/review/www.dugood.org?page=15\",\n",
    "\n",
    "       \"https://www.trustpilot.com/review/www.dugood.org?page=16\",\n",
    "       \"https://www.trustpilot.com/review/www.dugood.org?page=17\",\n",
    "       \"https://www.trustpilot.com/review/www.dugood.org?page=18\",\n",
    "       \"https://www.trustpilot.com/review/www.dugood.org?page=19\",\n",
    "       \"https://www.trustpilot.com/review/www.dugood.org?page=20\",\n",
    "       \"https://www.trustpilot.com/review/www.dugood.org?page=21\",\n",
    "       \"https://www.trustpilot.com/review/www.dugood.org?page=22\",\n",
    "       \"https://www.trustpilot.com/review/www.dugood.org?page=23\",\n",
    "       \"https://www.trustpilot.com/review/www.dugood.org?page=24\",\n",
    "       \"https://www.trustpilot.com/review/www.dugood.org?page=25\"]\n",
    "reviews =[]\n",
    "\n",
    "for url in urls: \n",
    "    r = requests.get(url)\n",
    "    soup = BeautifulSoup(r.text, 'html.parser')\n",
    "    regex = re.compile('.*typography_color-black__5LYEn.*')\n",
    "    results = soup.find_all('p', {'class':regex})\n",
    "    review = [result.text for result in results]\n",
    "    reviews.append(review)"
   ]
  },
  {
   "cell_type": "markdown",
   "metadata": {},
   "source": [
    "#### Converting reviews list of list to a single list"
   ]
  },
  {
   "cell_type": "code",
   "execution_count": 9,
   "metadata": {},
   "outputs": [
    {
     "data": {
      "text/plain": [
       "['The customer service was amazing. The loan officer Allison Medina was exceptional and would recommend her to anyone. I have had other credit unions but this one beats them all. We were at Rave but gladly switched to here. Great service and awesome credit union and the employees that work here.',\n",
       " 'I applied for an auto refinancing loan and it was processed the same day. Tracy at the Beaumont Eastex Freeway location was walked me through the process and was extremely helpful, friendly and professional. I couldn’t have been more pleased. ',\n",
       " 'I financed my car through DuGood and I needed to have a account through them. Decided switching banks was easier then having multiple accounts open. Talked with Christy and she was very nice and helpful. She walked me through the whole process and explained everything in a simple and easy way to understand. I got more benefits then I did with my other bank and staff was so much nicer. Thank you Christy! Would recommend doing business here if you need a good bank!',\n",
       " 'I was helped by an employee named Jada Needham, and they earned all 5 stars and then some. I went into my chat angry about my situation, but by the end, I was incredibly happy and had my problem completely solved. If these reviews are at all considered when it comes to advancement, I hope the people in charge see this and treat their amazing employee properly.',\n",
       " 'My house is going to be back in the morning and I will not have to wait till the other person I know is a couple of to the money off . ',\n",
       " 'The personal attention and prompt responses made the loan process so easy. Our loan officer has helped us three times now and I would highly recommend her again. ',\n",
       " 'The customer service was amazing. The loan officer Allison Medina was exceptional and would recommend her to anyone. I have had other credit unions but this one beats them all. We were at Rave but gladly switched to here. Great service and awesome credit union and the employees that work here.',\n",
       " 'Quick and Easy.  Very organized with collecting and getting documents signed.',\n",
       " 'Love the round up to savings program and you can use any ATM for free. Very professional, courteous and respectful.',\n",
       " 'Love my bank  they are always really friendly. Great customer service. ',\n",
       " 'I had applied online. The application couldn’t be completed online. I called to see what I needed to do. They said come to the branch. A little while later Stephanie Gallo called me, asked security questions and had everything completed shortly. I didn’t have to go in to the branch.',\n",
       " 'We have several loans with DuGood and they have made the process easy and stress free.  They make you feel like you matter.',\n",
       " 'Sandy Ferrell was our handler and she kept us up to date on all aspects of this loan. I needed help and she was there to guide me to a smooth processing of our loan. She is a very great asset to DuGood.  ',\n",
       " 'Very good bank and good service there staff is very helpful ',\n",
       " 'Great & Quick Service!  Allie was very helpful and friendly!  She had great communication.',\n",
       " 'Very nice young lady that helped me , and professional.I want to say thanks you for letting my family do business with your credit union .',\n",
       " 'The banker service was very professional and polite ',\n",
       " 'You Gave Me Hope Again In Fairness But Much More Can Be Done In Communities Of The People Who Are Hurting!!',\n",
       " 'There are so many amazing people on staff that I can depend on when I have a question or a concern but to name one, Stephanie G. goes above and beyond, always helpful and responds quickly when I have a question or if I’m in a bind. I appreciate her help always!',\n",
       " \"Loan officer Tara was very helpful. She answered all questions thoroughly,  was prompt to respond and made the entire process smooth! She's fantastic (Please honor/reward/award her accordingly!) and because of this experience I will definitely turn to DuGood in the future for ongoing and new banking needs.\",\n",
       " 'They suck the jasper branch committed fraud by lying and stating that someone made an overdraft purchase that never happened then after asking for the statement they give me a fake merchant with no address and a scam phone number. This bank gets a zero rating ',\n",
       " \"I don't believe I have ever felt more welcomed anywhere. Every questioned was answered. Everything was explained to our understanding. We laughed, learned, and conducted business. A very pleasant experience.\",\n",
       " 'This bank is so friendly  staff  is just awesome  raven  Smith is just awesome  blessing  bank manger....always  greeting  is .our car finance  here and  will not bank any where but here',\n",
       " 'Process was very easy. Everyone was very professional and very nice. ',\n",
       " 'I moved matured CD to open an account with higher rate to DuGood.  I was in a time crunch that day due to weather issues and was pleasantly surprised at how easy and fast accomplishing this was.The staff member was more than friendly,helpful and knowledgeable.  I will do the same as other funds become availableIn addition, the Jasper branch is much closer to my home.  Thank you!!!',\n",
       " 'I’m a new customer. I went in today to deposit a check that came in with a previous last name and the teller that assisted me was very courteous and helpful. I had all the paperwork that I needed including my ID so I didn’t encounter any problems. Everything went smoothly and I really appreciate it. I was in and out and about 10/15 minutes at the most, I feel like I made a good choice and choosing to DuGood as my credit union. I needed a local banking institution, a friend recommended Du Good and I’m happy they did! ',\n",
       " 'They were extra helpful in helping me with my issue. I don’t think they could’ve been any one better to help me. They were tremendous ',\n",
       " 'I appreciate the fact that DuGood is still doing business like a small town credit union. I\\'ve been with another CU for almost 25 years and have been thoroughly disappointed due to them changing their business model to going with the \"industry standard\". Getting my vehicle loan done was as easy as it gets. ',\n",
       " \"I went in to refinance a new truck which I had originally financed with GM.  Service was prompt, to the point, and it was easy to achieve my objective.  I didn't feel like there was any wasted time sitting around waiting or with wasted motion in the interview process.  I went into the branch office, got waited on promptly, and completed the deal in a reasonable amount of time.\",\n",
       " 'Everyone was very nice. They have many financial tools available. I look forward to doing business with DuGood in the future. ',\n",
       " 'Best CD interest rate available and customer friendly!!!',\n",
       " 'From the time a person walks in the door of DuGood C.U. they are welcomed, every employee is professional and takes care of business in a timely manner. ',\n",
       " 'It’s important to note that a company like this is performing superbly by closing deals and giving out credits to customers to stand ',\n",
       " 'Kinzie was so easy to talk to! She listened to me very great people personality!& very thorough.',\n",
       " 'Kristin was so easy to work with, responsive and friendly!!',\n",
       " 'My wife and I had to manage one of our accounts, and the employee that helped us was very nice, knowledgeable, and helpful.  Her name was Rebeka, she works in DuGood on Major Drive in Beaumont, TX We do hope she will be recognized, she does represent your credit union very well.',\n",
       " 'Great customer service setting up new accounts. Spent the time necessary to fully explain options that DuGoodFCU had to offer.  Thanks Kim D.',\n",
       " 'I give Dugood five stars based on their customer service. Friendly attitudes, and helpful advice on how to improve my credit to get the things I want.',\n",
       " 'Can we begin with the amount of time it took only about 15-20 minutes. That’s the best part! The teller that assisted us was very helpful she went above and beyond to make sure my student knew the ins and outs to his new account! She helped him to setup everything so that he would only have to go through the process one time, and explained the many perks he would have with his new account! We are thankful for DuGood making the process so easy and simple! ',\n",
       " \"The handling of my vehicle refinancing from 100 miles away could not have gone any smoother than what I experienced. I've been a member for close to 40 years and I have never had a bad experience. \",\n",
       " 'Makenze was very helpful throughout the whole process of setting up my new account. Highly recommend.',\n",
       " 'I have banked with DuGood for several years. Their customer service is excellent. I just recently made a car purchase and my loan officer made the process so much easier.',\n",
       " 'Wendee Ashmore was great helping me with the information I needed and helping me to get everything set up.Everyone at the Orange location was very nice ',\n",
       " \"Kennedie C. Took care of me on this recent loan. She was down to earth and my conversations with her were very friendly and she conveyed real sympathy for me and my situation.  I felt I had a new friend. I have also  dealt with the other loan officers and tellers for years and they have always been friendly,  down home and helpful as well.  She's a shining star as all are at the  Nederland office on Nederland Avenue. She and all there are very helpful. \",\n",
       " 'The bank receptionist was extremely professional and very clear about the perks that  DuGood CU offers I really appreciate it.',\n",
       " 'The banker that opened my account, she was great. I am looking forwatd to enjoying being a customer.',\n",
       " 'You feel safe and secure ',\n",
       " 'Caron and the teller (I do not remember her name...I was upset with what happened at another branch...they were very calm and extremely helpful...I ended up opening a new account with DuGood. ',\n",
       " 'Harlee,  was so great to work with. Did everything online and was patient working with us while husband was working nights. Always our go to credit union.',\n",
       " 'I have a account with Chase and have for a long time and have seen times when we couldn’t access our account and I have heard good things about y’all and just wanted to open another account to be on the safe side.',\n",
       " 'Very fast, very friendly, very knowledgeable. Looking forward to doing business with DuGood Credit Union. ',\n",
       " 'We were treated with the utmost respect and professionalism, thank you!',\n",
       " 'Allison Medina was an absolute Angel to work with.  So patient, kind, and respectful of an elderly person.  What a pleasure. ',\n",
       " 'From walking in the door to leaving, everyone that I dealt with was very welcoming and friendly. I was pleased with the help and knowledge that I walked out with. I would recommend to family and friends',\n",
       " 'Mrs Cara was very helpful and answered all my question about getting loan.  She replied to all my text or call in a matter of minutes. I would recommend using Dugood,  probably the best rate in town. ',\n",
       " 'Great service, nice people, and very convenient. I never ever had to leave my office! Awesome job. I will be using Dugood from now on!',\n",
       " 'Friendliness of the staffing and knowledge of the type of accounts at DuGood.',\n",
       " 'Did a new car refinance Genise Griffin was very helpful and did a GREAT jobI live in Louisiana and we doing a lot of the work over the phone and text and emails She was there throughout the whole process and made sure everything went smoothly THANK YOU GENISE',\n",
       " 'I can’t remember her name but it starts with a K.. She was so nice and kind and sweet she was able to open me an account and set up my direct deposit right then and there not only that she also helped me with my deposit she is the best and I love her her office is the first one when you walk in to the left and the customer service was great everyone spoke while entering the bank they also said have a great day when we were leaving I love it!!!!!',\n",
       " 'DuGood has always been good people to deal with; professional and polite, as well as, kind.  When I had to close my account and open a new one - the only negative comment I can make is they didn\\'t tell me the suffix for ACH payments (for my bills) had been changed from 010 to 009; therefore, when I changed all my payment methods, I used what I had always used - 010 and my bill payments got returned.  Then when they set up my three accounts to transfer between them - they didn\\'t tell me that you have to click a tab called \"Move Money\".  In the past I have always seen all the different accounts on the same page as the checking and savings, loans, etc.  So - they need to include those two pieces of information - especially with long established customers.  It took getting in touch with the lady over the digital dept. to tell me when it should have been customer service.  Otherwise, everything was great and I thank you all.  ',\n",
       " 'Everybody there was determined to assist me in opening a new account.',\n",
       " 'The loan officer was so nice and friendly',\n",
       " \"Dugood explains and walks me through anything online business. The older generation isn't as knowledgeable with internet.Dugood has the patience and it is much appreciated!!!\",\n",
       " 'Ms JoDeji she was very helpful. She also was patient and was able to answer all of my questions and detailed about my the bank account.',\n",
       " 'The communication and the friendly atmosphere. Making sure we were completely satisfied with opening our new account. ',\n",
       " 'The employees in the jasper branch made my experience a great one and was able to assist me with everything i needed in a timely manner and a smile.',\n",
       " 'The service was wonderful and they help make sure you know every aspect of what to expect when you open a new account.',\n",
       " 'First time in my life I ever open a credit union in my name I think this is going to work for me to be a better person in life I was welcome in the vidor location ',\n",
       " 'Very helpful.  Calls back when she says',\n",
       " 'The entire staff was pleasant and very helpful. Opening my account was easy, and Deanna Cudd made the whole process seamless.',\n",
       " 'Everyone was such a joy and just couldn’t do enough to help you. Also would not let the call end until they have answered all your questions and concerns. Recommend ',\n",
       " 'I had a very good experience working with DuGood Credit Union on the purchase of my new vehicle from Weaver Motors in Kirbyville would recommend them to all my friends ',\n",
       " 'We were kept informed on every step of the pro ess',\n",
       " 'Always have a confidence that DuGood will do their best to help the customers.',\n",
       " 'Dugood beat Can-Am’s interest rate and I was able to do everything over the phone including the signing process. ',\n",
       " 'Raven was super sweet and informative! Go see her for your banking needs!',\n",
       " 'Very knowledgeable personnel. Explained everything in detail and was quick and very courteous. ',\n",
       " \"Miss Jacob's is always very professional, courteous, and helpful. I always have a great experience any time I need help. \",\n",
       " 'The staff at Dugood was very responsive and helpful,  they made doing business very pleasant. ',\n",
       " 'Rachel and Bernadette were really nice and great at explaining and going over the papers. ',\n",
       " 'I went there to open two accounts, I was helped right away. I was helped by a lady named Rebeca Anzaldug she was very helpful and I was out of there shortly. I was very happy with the service.',\n",
       " 'The person made it very enjoyable easy to understand what she was doing gave me all the information that I needed was a great experience.',\n",
       " 'I had a great experience! ',\n",
       " 'I was greeted warmly upon entrance , they gave great customer service and are very swift ',\n",
       " 'Every thing was to fast. really good experience they reduce mi interest and put the monthly payment as I need it. thanks ',\n",
       " 'Over all JoDeja at the Dowlen location was the most laid back person I could of done this process with. She was easy to talk to and got the job done is a good amount of time. Ten out of ten.',\n",
       " 'Just moved to Baytown and first time to visit Credit union. My visit was a pleasant one.',\n",
       " 'Very quick but everything was explained to me very good experience ',\n",
       " ' it is the best branch in this city.',\n",
       " 'Everyone was very pleasant and friendly.  Very knowledgeable of your services.  ',\n",
       " 'The company is very professional and all they do they serve without any hassles ',\n",
       " 'Very friendly and helpful never had to go into a branch did everything over the phone and email. ',\n",
       " 'Great Staff, Friendly Faces ,Prompt Service I Love My Dugood Credit Union. They Take Good Care Of Me. Sheena Boykin ',\n",
       " 'This is not my first loan with DuGood, and every time I have made a loan here it has always been easy and fast.',\n",
       " 'Have done business with DuGood for 17 years, Always received good service. Very Happy.',\n",
       " 'Tara Baloney is a great loan manager. She comes through almost every time.',\n",
       " 'Katrina had my loan processed in less than 45 minutes! She was awesome! Everyone in the Jasper branch are very friendly.',\n",
       " 'Good service when I visit the branch fast and efficient. ',\n",
       " 'The bank representatives (on phone and in person) were very friendly and helpful.',\n",
       " 'The young woman that helped me start my account was very helpful and informative explaining the services that where available to me answering any questions.',\n",
       " 'People were friendly and professional. Eager to help.',\n",
       " 'Kenzie was a great help to me setting up my financing!',\n",
       " 'The entire process was quick and easy and couldn’t have been more smoother. ',\n",
       " 'The friendly staff and readiness to help and get me started ',\n",
       " 'Everyone was very helpful and nice throughout the whole process ',\n",
       " 'excellent service!     Thank You',\n",
       " 'It was all so easy. Everyone I spoke to was polite and considerate of my time and my needs. ',\n",
       " 'Great customer service.  Very prompt and efficient.',\n",
       " 'Timely responses, knowledgeable personnel and low rates.',\n",
       " 'Very Good service. recomended from my side ',\n",
       " 'I already had much experience with the app',\n",
       " 'Financing was quick and easy ',\n",
       " 'I recommend DuGood Credit Union for its solid reputation for exceptional customer service, a wide range of financial products, competitive rates, and an intuitive online platform. Its dedication to security and technological innovation also makes it an excellent choice for those seeking a reliable and modern financial institution.',\n",
       " 'When I walk in I was greeted with a smile and good morning how can we help you today ',\n",
       " 'They be good to . Think you ',\n",
       " 'Great customer service. They answer any questions we have without hesitation. ',\n",
       " 'Cara made the process as simple and smooth as possible. ',\n",
       " 'Great customer service ',\n",
       " 'Amazing friendly service. Quick easy to the point help. Got in and got out. With what I wanted. It was one of the easiest loan processes I have done at a bank. ',\n",
       " 'Everything was perfect. She explained everything great.',\n",
       " 'Very helpful on any request..very nice and considerate',\n",
       " 'Simple process with friendly customer service',\n",
       " 'Thanks to the Jasper Branch for making my loan process easy and simple.A++++++ service!!!!',\n",
       " 'I had a great experience opening a free account good customer service ',\n",
       " 'The new account lady was nice and walked me through everything. ',\n",
       " 'Great customer service from walking in the credit union to leaving out just Great environment ',\n",
       " 'It was a good experience ',\n",
       " 'Loan officer was real courteous ',\n",
       " 'No wait and great customer service. All the help I needed. ',\n",
       " 'Kennedie was very quick and helpful. ',\n",
       " 'This App is really useful and easy to use even for new users ',\n",
       " 'The lady that helped me was very sweet. I felt good when I left the bank.  I hope to be a life long member.   Thank you DuGood',\n",
       " 'Really easy to deal with just made one phone call and deal was done.Thanks Joey ',\n",
       " 'Melissa was so helpful and she made the process fast and easy',\n",
       " 'Fast and friendly service. No delay or complaints.',\n",
       " 'Signature Loan was very easy ',\n",
       " 'Very helpful and easy to set a loan up with. ',\n",
       " 'The clerk helped me as much as she possibly could .',\n",
       " 'Requests and paperwork was prompt in receiving',\n",
       " 'Everyone was so nice and so helpful. Loved it. ',\n",
       " 'Fast, efficient and easy process.  ',\n",
       " 'This is great bank of us. We are so happy that we are amember of this bank',\n",
       " 'Everything was ready when we arrived to close. ',\n",
       " 'Great customer service l',\n",
       " 'Awesome and friendly people',\n",
       " 'Great service ',\n",
       " 'Very good , a very good way of learning new things',\n",
       " 'This is the best among all others ',\n",
       " 'They are always friendly and fast! ',\n",
       " 'It was absolutely amazing, timely, our representative was professional and knowledgeable! ',\n",
       " 'Very professional and friendly ',\n",
       " 'Always fast and friendly. ',\n",
       " 'It is good company ',\n",
       " 'Effective services and follow up till the end of the transaction ',\n",
       " 'awsome and honest',\n",
       " 'Kristin was extremely professional and efficient in facilitating our loan.',\n",
       " 'Very helpful and friendly staff! ',\n",
       " 'Good service.  Friendly.  Lots of perks',\n",
       " 'Great representation very friendly and very knowledgeable excellent ',\n",
       " 'Communication and ease of getting things completed ',\n",
       " 'Your agent Jo did a great job ',\n",
       " 'Very professional and knowledgeble staff',\n",
       " 'People have to know  that you what you can be helpful  though everything improve and show ',\n",
       " 'Great very good thank you for the auto loan',\n",
       " 'Very helpful thank you ',\n",
       " 'Great Always Satisfied ',\n",
       " 'Friendly & wonderful ',\n",
       " 'All the ladies were kind and friendly. The staff assisted with all items and all questions I had.',\n",
       " 'Very helpful!Thanks WB',\n",
       " 'There great ',\n",
       " 'Every thing',\n",
       " 'Quick and helpful ',\n",
       " 'How to claim my money ',\n",
       " \"Everything's okay \",\n",
       " 'Everything ',\n",
       " 'Gud experience ',\n",
       " 'Great customer service, friendly staff, they really make you feel good ',\n",
       " 'It was my first time using DuGood Credit Union and I was very impressed with their customer service to open 3 accounts with the Jasper branch.  I switched from Wells Fargo, who I’ve had since 2002 because there wasn’t one close to where I bought my house in Jasper. I’m very satisfied with DuGood. ',\n",
       " 'We have been paying someone to do our yard for years. We finally decided to get our own zero-turn mower. Allison M. made this a very swift and easy process for us. ',\n",
       " 'Ms. Denise at the Edison Plaza was very knowledgeable and professional . She gave us a time frame and it was exactly as she had said .',\n",
       " 'The best bank I have ever used ',\n",
       " 'The staff I dealt with were EXTREMELY nice, and shoutout to Stephanie who always works with my dad and helped work with him to get my second car financed through them!',\n",
       " 'Been with Dugood for years and am happy with my bank. Recently applied for a personal loan and the entire process took minimal time and was super easy. Would recommend banking with them.',\n",
       " 'Very kind and welcoming when you walk in the door.  The Branch Manager went over and beyond to help me with setting up a new account and a legal issue on another account for my Husband. I couldn’t have asked for a better experience. I look forward to using DuGood Credit Credit.',\n",
       " 'They made the process easy. They were very helpful and nice.',\n",
       " 'Cara, was so professional in handling my loan. ',\n",
       " 'Taylor made going through with purchasing a vehicle so effortless and easy, and across state lines even. Constantly in communication with me and the dealership even when they were being hard headed. Taylor definitely deserves recognition for her attention to detail and her care to help me as a member. ',\n",
       " \"So happy couldn't agree more I recommend this company to anyone!!! \",\n",
       " 'The lady helping me was very professional yet friendly,  I was surprised at the service and speed. ',\n",
       " 'Refinanced my home and they were super helpful.  Made the entire process pain free and even accommodated my irregular work schedule. ',\n",
       " 'My go to person at DuGood is Darlene at the Lumberton branch! Even though I just recently moved from Lumberton, I still would rather drive there which is 30 mins away because she always goes over & beyond. Nothing personal against any of the other branches but Darlene goes out of her way, and over & beyond for whatever it is I’m needing. I had a few not so great experiences at another branch but she is one of the reasons I continue to keep my accounts at DuGood. I hope she gets recognition for the amazing job that she does. It’s hard to find good service anywhere now days sadly. ',\n",
       " 'Very helpful loan officer. She set everything up for me to meet at a branch in another city. Went very smooth ',\n",
       " 'Loan officer was kind very helpful assisting me. Very knowledgeable ',\n",
       " 'The office and staff provide a very inviting  environment. The staff members are very professional and supportive to help with providing the service you may need.',\n",
       " 'The staff at credit union has been very helpful and knowledgeable  in every department. ',\n",
       " 'i did not like how at the end of every process there is the red and green buttons. They do not look good quality and destroys the aesthetic .The start page of the website is good. maybe instead of the red and green the interface were to have a good color choice it would definetly increase the quality.',\n",
       " 'I was helped fast and received excellent customer service.',\n",
       " 'Fast and friendly!',\n",
       " 'Kristen was great. So very helpful and attentive. Very responsive and kept me up to date constantly on my loan process ',\n",
       " 'Carrie Brown did a great job! She kept in contact with me every step of the way thru the loan process',\n",
       " 'Very friendly got right to point with everything I needed to know.Thank you for giving me this opportunity.',\n",
       " 'I was able to use my card as soon as it was set up. The process of setting it up was very straightforward too',\n",
       " 'Upfront interest rate disclosures.  Very quick responses and very good customer service.  No hassle for increasing pre approval amounts.  No surprises at the final process.  Will be watching for mortgage rates to decrease.',\n",
       " 'Carrie at mont belvieu tx did a very great job refinancing my truck! ',\n",
       " 'The young lady that help open the account was very helpful ',\n",
       " 'Very good easy to use ',\n",
       " 'Always a great banking experience at Dugood in Jasper.  Tammy Christopher is the absolute best at handling my finance issues.',\n",
       " 'It was the communication skills and the customer curticy for me!!  I like the fact that I could speak to a person instead of a computer 🥴',\n",
       " 'The process of getting the loan and the employees made it so simple and easy. ',\n",
       " 'The staff was knowledgeable with the transactions I want to make.  Greatly customer service and satisfaction ',\n",
       " 'Good , very good',\n",
       " 'All of the ladies are so helpful. I love doing business here. They really do go above and beyond.',\n",
       " 'Kim was extremely helpful.  She was very good at explaining the offering of the Credit Union & all the Disclosures that go along with opening a new account.  She responded quickly to my issues regarding online banking access.',\n",
       " 'Rebecca was very friendly. She was helpful in every way answering all questions with knowledge. Overall great experience!',\n",
       " 'I corresponded by email with Danielle, who set me up an appointment with JoDeja at the Major Dr. location. Danielle told me everything I needed to know to be prepared. JoDeja spent almost 2 hours with me setting up multiple accounts that I needed. I am leaving a bank because the one time I really needed them, they gave me nothing but misinformation. The atmosphere, the people, and the banking options were wonderful. I am so happy to be a new member of DuGood. ',\n",
       " 'I needed to open an account and Deanna and Darlene made it a very easy process!',\n",
       " 'The works was very helpful and friendly!!!!',\n",
       " 'Great work!',\n",
       " 'Professional - very concerned - understood my problem - courteous - prompt - resolved the issue ',\n",
       " 'It is always so easy to apply for a loan through Dugood.  The loan officer was awesome and made the process easy.  Thank you Rebecca.',\n",
       " \"Employee was very professional and knowledgeable at her job.  She was very courteous and helpful and very patient in answering all of our questions.  She made our experience there actually pleasurable.  I have been a member there since 1973 and she is the nicest person I've ever dealt with.  We really loved working with her.\",\n",
       " 'First of all let me give a big thanks to Mis Tara  Me and my wife been with du good for years and always think we can’t get any credit but was wrong till I call to see if they can refinance my car from there every step was smooth mis Tara is a professional at what she do and patience with the customer All the way around I say 10 thank you DuGood and continue dugood for customers ',\n",
       " 'Great customer service.friendly down home kind always helpful.thank you!',\n",
       " 'Haley made setting up an account very enjoyable. My goal is to transfer all of my finances to DuGood after how efficient the initial experience was. ',\n",
       " 'The company is very good and giving excellent customer service.',\n",
       " 'The service was fast and easy , I would highly recommend it to everyone I know. Happy to be a part of the.DuGood family.',\n",
       " 'Always a seemless experience. ',\n",
       " 'I had an amazing experience at the Port Neches location. I needed to help my mother who was bed ridden due to a recent illness and was able to get the forms electronically.',\n",
       " 'Very Pleasant experience opening checking and saving accounts.  I was greeted upon entering the building, all my questions was answered. The teller was professional.  The branch manager made me feel special, she was patient and professional assisting me with set up online banking. Informed me on information pertaining to loans and cd’s.  I will Highly recommend this credit union to family and friends.',\n",
       " 'I felt like you listened to my conversation',\n",
       " 'Went in late after work with only minutes to spare. Mrs Wendee Ashmore was happy to see me and very welcoming. Helped me get a saving and checking opened and answered all my questions ! These folks are genuine !',\n",
       " 'Very easy. Friendly staff',\n",
       " 'They were able to do everything by phone and email, so I did not have to drive to a physical location.',\n",
       " 'Good and prompt service',\n",
       " 'They are very nice people and are patient with everyone',\n",
       " 'They were very helpful and so nice that I would recommend them to everyone',\n",
       " \"My rep was so pleasant  and helpful.Marissa explained all benefits and terms. When you are my age, it means so much. DuGood gets it's name right and I am proud to be a member.\",\n",
       " 'Easy stress-free experience with getting approved for my loan. The staff were nothing but helpful.',\n",
       " 'Yall have great employees  at credit union  on major drive good attitude  out of the people  and the Branch Manger yall have at location is really great and yall have great service',\n",
       " 'My first time ever being in a credit union.  My lady was very nice and really explained everything to me very slow and patient with me. She answered every question right away, even answered some before I even asked them. She was amazing.  I look forward to having a long relationship with my new bank in my new area since I got married this year and to continue my job hunt this week.',\n",
       " 'Every time I’ve requested a loan from DuGood it’s been super easy and their staff is extremely helpful!',\n",
       " 'I dont know her exact name but if she see this she will know who i am. It was a lady with a yellow pull over on and she was very sweet and helpful! Also, made the process very easy and fast',\n",
       " 'Been using DuGood for years. Great people to do business with. Tammy Christopher in the Jasper branch is the reason I stay!',\n",
       " 'The nice lady that helped me to become a member was very professional and made me feel at home. Thank yall',\n",
       " 'The loan process was so fast and easy.  Tara was the best and will do business with her from now on!!',\n",
       " 'Ms Stephanie was really helpful and got me setup with the perfect account and different perks that’ll save me a lot of money.',\n",
       " 'Great customer service friendly provided insight and helped make everything go smoothly and quickly',\n",
       " 'I was greeted when I entered the door! Asked to speak with a loan officer and barely sat down in the waiting area before I had someone tell me she could help me!  Ashante was very nice and listened to my needs.  In no time at all I was signing papers and on my way.  Every step of my experience was great!  Keep up the good work!',\n",
       " 'Great experience!!  Genise was very knowledgeable about her work.  She was very, very helpful!!',\n",
       " 'Always phenomenal service.  Fast and easy to work with!  Best in SE Texas',\n",
       " 'The ease of getting the loan without having to come into the branch.  The loan officer was very prompt with response.',\n",
       " \"Every time I walk into Dugood I am greeted with a smile. Literally everyone there is friendly, warm, and helpful. I recently needed to add am account and Ms. Wendee made it a nice and easy experience. She made sure I understood my options and helped me with whatever I didn't understand. Plus she's super sweet! Great staff at DuGood!\",\n",
       " 'The employees are awesome! Welcomed me like I was family as soon as I walked inside the branch, and set up my account in no time! I will ONLY recommend this credit union to EVERYONE!',\n",
       " 'Great personal service and a wide variety of services offered.',\n",
       " 'Amazing service',\n",
       " 'Talked to Nice people about my information.',\n",
       " 'Very polite and friendly. My wife and I were very happy during the visit.',\n",
       " 'Great and knowledgeable people and friendly.  Will highly recommend!',\n",
       " 'Marissa did an excellent job at getting me approved for my loan while I was at her desk.',\n",
       " 'How a few difficulties with my account Customer service was very helpful respectful and the problem was Resolved',\n",
       " \"Haley was truely a professional and very knowledgable.  She respected our time and didn't waste any time assisting up opening an account with this institution.\",\n",
       " 'I had such a great experience with DuGood. This was my first time applying for an auto loan and my advisor Kristin was such a big help. She answered all my questions and was very quick to respond with any follow up information. I’d highly recommend DuGood!',\n",
       " \"They helped me to be able to get a fresh start and was honest with me on what I could do and couldn't do\",\n",
       " 'Taylor stayed in contact every step of the way.',\n",
       " 'Did everything online and over the phone with no issues! Perfect for someone who has a busy lifestyle! Thank you Dugood for making it easy on me!',\n",
       " 'The staff is knowledgeable and courteous!!',\n",
       " 'My husband and I have been with dugood for many years.We mostly have interacted with Mrs. Tara Baloney She has been an absolute pleasure over the years. She makes every effort to give 100% always!',\n",
       " 'Stephanie at the Vidor branch went above and beyond for me in trying to settle a dispute with an account I had.  Her expert way of handling the business matter was/is much appreciated and it made me feel validated and supported.  The transfer to Allie in the Lender Department was smooth and helpful.  Big thanks goes out to Allie as well for her expert way of handling a stressful situation and helping me with paperwork to resolve the stressful situation I was in.  Bless you all!',\n",
       " \"As soon as I walked in, I was greeted by Jada Needham. She treated me like I had banked there for years. She is very well trained at her job. She answered all my question. Jada was very Professional and Friendly, her communication skills are the best I've seen! She took time with me, went over everything Dugood FCU had to offer. I don't remember the last place that had such Awesome Customer Service! So much so, my step son also opened an account. I rate her 5 stars. I would like to Thank Dugood FCU for hiring her. She is Awesome! She will get so much more buisness from me and my Family. My mother, fiance and children are in the process of moving there bank to Dugood just because of how well I was treated by Jada. We have never had such Awesome Customer Service! Dugood should give her a raise!\",\n",
       " 'Very easy to open an account. The Dugood representative was kind and very informative.',\n",
       " 'Tara was amazing to work with! She was very professional and polite! She got us approved quickly for the auto we wanted! We will always use her in the future for any other loans we may need.',\n",
       " 'The service is quick and awesome',\n",
       " 'The people at Dugood were very kind and extremely helpful! I had all of my questions answers!',\n",
       " \"It was a simple online application experience and once the credit union opened the next day, I was given a courtesy call to tie everything together.  I'm immensely pleased!\",\n",
       " \"I have been with DuGood FCU for many years. It's been nothing short of a great experience, whether I'm in the lobby to get a cashier's check, in the drive-through to make a deposit, or on the phone to refinance my house and/or car. I've found DuGood personnel consistently knowledgeable, convivial and easy to work with. I have no plans to go anywhere else.\",\n",
       " 'Right from the beginning I felt a connection with DuGood Credit Union! This is the hometown branch I choose to trust my money with!',\n",
       " 'Very nice handling customers and helping them in reaching out reality',\n",
       " 'Need a visit for the bank',\n",
       " 'I would rate them and score them a 💯 the credit union was very nice they took the time to go over everything with me so I can understand and know about the account everything was great thanks for everything',\n",
       " 'Very helpful, courteous, and excellent customer service',\n",
       " 'DuGood has came through me and family a lot and glad to have them as my bank',\n",
       " 'Refinanced a new car purchase. Quick and easy! Shelby knows her stuff. Bing, bang boom! In, done and out.',\n",
       " 'Harlee was most diligent and helpful. She took me through the loan process and made it practically effortless for me.',\n",
       " 'Very friendly and very understanding about everything..Heard a lot about credit unions but never had the chance to join one thanks for everything!!!',\n",
       " 'Opening an account was simple and easy. Staff were friendly. Very informative and could answer all my questions with confidence',\n",
       " 'So helpful! Was very patient with me. Respond quickly! Absolutely amazing!',\n",
       " 'They’re providing great service to the community!',\n",
       " 'My experience in dealing with the staff has been gratifying, due to the professionalism; the fact that they listen to what you are saying and the exceptional expedience in which the matter is taken care of to completion.',\n",
       " 'Very good communication with loan officer. She gave me updates and assisted me in the online process. Closing went well and was very organized.',\n",
       " 'I realy like all the people at DuGood Mont Belviue/  Always friendly and accomidating.',\n",
       " 'Customer service was great. No time to set up a account and loved all the addons you get when opening up an account.',\n",
       " 'Very quick and professional.  Love doing business with DuGood.',\n",
       " \"I called about a loan, and next thing I knew I was getting it. I've never experienced such a quick and easy loan process online. From first phone call to finishing text, it took less than 3 hours. The agent was very informative and answered every question I had.\",\n",
       " 'I have to say by this being my first time trying a credit union. I truly love the way I was greeted and treated by the whole branch. They were very helpful and informational.',\n",
       " 'Great customer service. Quick and easy auto loan. Great rates too.',\n",
       " 'The associate I  talked/worked with Caryn, helped me get everything I wanted moved to Dugood (refinancing) everything went smooth and I did not have any issues while working with her. I will be back to work with Caryn again.',\n",
       " \"Ms Marissa Carlin is the reason my latest experience with Dugood was great. She was very helpful, from answering my constant questions to giving me some great advice. Ms Marissa didn't stop at the first obstacle and give up on helping me, she worked to take care of my concerns and got me going in the right direction. I am very thankful for her assistance.\",\n",
       " 'Sandy Ferrell and Blake Worthey are amazing. They always go above and beyond to make our transactions easy and quick',\n",
       " 'The person that I talked to was very helpful and had great respect ! Gave great advice and was very courteous.',\n",
       " 'The loan officer was very helpfulAnd went out of her way to help me.',\n",
       " 'Very punctual and professional. Sandy and Blake made the entire process painless! Many thanks!!',\n",
       " 'I have done business with many financial institutions and DuGood is by far the friendliest and most efficient to deal with.',\n",
       " 'The first loan application is denied and so disappointed but they told me to come back a few months later, and that what I did , and this time talk to the Vidor branch manager, She treat me good and she approved my loan',\n",
       " 'Great visit. Staff very friendly. No problems.',\n",
       " 'Very nice, courteous  and helpful. Made opening an account easy.',\n",
       " 'Tammy Simmons is the BEST manager and personal banker I have ever encountered. She is so helpful, wise and kind. She helps us grow personally and in our business. Our community is blessed to have her.',\n",
       " \"The young lady that helped me open my son's account was very nice and sweet. She answered all our questions and gave us some very good advise\",\n",
       " 'This is not my first bank account, however it is my first as an “Adult”. Walking in everyone had a smile and were very helpful. Setting the account up was easy and painless.',\n",
       " 'My loan went thru like a breeze.  She new what she was doing. Thanks',\n",
       " 'I did not have to wait long to receive service and the representatives were friendly and helpful.',\n",
       " 'Took the time and explained everything clearly',\n",
       " 'The lady was very professional and very informative need more people like her.',\n",
       " 'the employees who helped made the process easy and quick',\n",
       " 'It was fast and they were friendly. Was approved and documents sent and signed in just a matter of minutes',\n",
       " 'I applied for Christmas loan and had money in my account the following business day.',\n",
       " 'Great experience and very helpful',\n",
       " 'Brenda went above and beyond to get me the Christmas loan. She called me twice and it was done!',\n",
       " 'Always easy to work with and recommend exactly what you need.',\n",
       " 'I have been a member of DuGood Credit Union for a very long time. All DuGood Credit Union employees that I have ever dealt with seem to have similar quality traits.Cara Bryant is no exception, she is a very knowledgeable, professional, friendly, diligent loan officer and is a real pleasure to work with.Even with a couple of delays, she was vigilant and kept me aware of the proceedings.Cara stayed on-point and she is an absolute pleasure to work with.',\n",
       " 'Wonderful! Marissa was very patient with me and made the process very smooth, quick, and convenient. Very pleasant to work with!',\n",
       " 'Sandy Ferrell and her team were awesome. Kept me very informed while purchasing our house.',\n",
       " 'very excellent and efficient. Thank you, 5 out of 5 is my rating',\n",
       " 'Yall are always ready to help when I need something and always going above and beyond to get it done',\n",
       " 'The staff reaching out to me, returning my calls, having patience and being able to address all my concerns was phenomenal Stephanie was wonderful! As a new member I love the fact that DuGood donates and give you a choice as which charity you’d like for them to donate to. That alone speaks volumes!',\n",
       " 'It was an easy on online process. Then the bank followed up within a day the customer service representative was very nice and helpful!',\n",
       " 'They are a friendly staff, one of the best banks and best customer service I have experienced.',\n",
       " 'Love the folks at Dugood. They go above and beyond to help their customers.',\n",
       " 'The quickness of the whole process. The loan officer was very knowledgeable and professional. All around great experience.',\n",
       " 'Great everyone should try this love thiss app😍',\n",
       " \"Excelent!!It's great and I recommend it! My experience with Dugood is fantastic because they listen and take their time explaining everything.\",\n",
       " 'So grateful for the services you provide! Nicest staff ever! Thank you so very much!',\n",
       " 'Very useful platform. High-quality service from the employees, the professionalism of the employees is visible. Thanks to its creators for its simplicity and ease of use!',\n",
       " 'Excellent experience with professional speedy response time. Quickly done and always kept up with communication.',\n",
       " 'I give 5 stars because I got more than what I expected...',\n",
       " 'Awesome Application, very easy to use and better for us.',\n",
       " 'Felt like home, great customers service !!',\n",
       " \"I had the pleasure of opening my new account with assistance from Haley. She addressed every question I had and explained to me all the perks that come with having an account at DuGood. I couldn't be more pleased.\",\n",
       " 'The member services members where very nice and attentive',\n",
       " 'Everyone that I have sat down to speak with have all been so personable and truly involved and wanting to listen to what you need. They are all quick to help and also give advice to help set up my future.',\n",
       " 'They are always willing to go the extra mile to make sure me and my family are satisfied with the outcome of our loans.',\n",
       " 'Both of my loan officers were very helpful and patient with me in finding my truck and getting me approved for my loan. They had excellent customer service. I will come back and do more business with DuGood.',\n",
       " 'Fast approval for auto loan. Processing loan between dugood me and the dealer was simple and easy',\n",
       " 'Very nice and business like 👍 Convience at a premium 👌 Team friendly!',\n",
       " 'My experience with Dugood is fantastic because they listen and take their time explaining everything.',\n",
       " 'Very cheerful. Made you fill like you   at home. They are aways happy to see us and make everything so easy.',\n",
       " 'Awesome friendly staff and loan process was simply easy.',\n",
       " 'Marissa is absolutely the best. Easy to talk to and very nice. This is the 2nd time she has helped me with a loan. DuGood has been very good to me in general. I really appreciate them.',\n",
       " 'Efficient, friendly and just pleasant. Everyone was smiling and all my questions were answered. Loved the experience overall!',\n",
       " 'Process was extremely easy and quick. Rhonda knew exactly what she was doing and was extremely pleasant to work with.',\n",
       " 'Easy to apply! Very friendly staff and only took less than a day to get approved!',\n",
       " 'Top notch customer service.   I was able to handle loan my application over the phone and approval in a timely manner.',\n",
       " 'The process was quick and easy . They walked me step by step through the process since it was my first time . Any questions I had they answered no hesitation.',\n",
       " 'I would recommend anyone to open account with Dugood. The woman would assist me did really good from start to finish.',\n",
       " 'Great, fast service. Easy to deal with',\n",
       " 'I love DuGood Federal Credit Union because they are very professional and they give personalized care to each customer. I have banked here for years and they know me by name.',\n",
       " 'Loan officer made the process quick and easy. Great experience and great experience all around banking here',\n",
       " \"The whole experience was great , fast with no complication's. Her name was Allie an she was the best .\",\n",
       " 'Pleasant loan experience, the whole loan process was smooth and as painless as could be...and when I failed to execute in a timely manner, the officer and assistant quickly got us back on track to complete a.s.a.p.',\n",
       " \"When I call Brenda, she always gives it everything.  She makes me feel like she's going to make it happen.\",\n",
       " \"My experience with DuGood has been a great one. They have been helping me to re-establish my credit and maintain a good credit history with the loans they provide for me. Being a single mom, I'm glad to be guided in the right direction by being a member of DuGood Credit Union. They have made my life a little brighter to smile. Thank you, DuGood\",\n",
       " 'Great Customer service. It was quick and the lady was nice',\n",
       " 'Ashanti is always a pleasure to work with!!!  Thank you for being great!!',\n",
       " 'I bought certificates of deposits. I was given the current rate of interest and chose what was best for me. The teller was very helpful and quickly filled out the forms and I got what I needed.',\n",
       " 'This was a very simple experience. DuGood personnel were very thoughtful of our time and accommodated us with the \"time\" that worked into our schedules.',\n",
       " 'What made my experience great was that the person gave me a chance an im very appreciative of that thank u miss Carrie Brown and Dugood credit union',\n",
       " 'The account manager was very helpful.She explain everything to me and Amy.',\n",
       " 'My experience was amazing. Raven went above and beyond to assist me and very grateful',\n",
       " 'Excellent customer service. Kailey was very helpful and informative. She did everything she could to help me out',\n",
       " 'Customer service at the Vidor branch is top notch always. My recent experience was fast and professional.',\n",
       " 'Mrs. Ford was great to work with. She got our info, put it in the system and made a note that we were waiting in her office for the loan approval. The entire process was quick and we were on our way.',\n",
       " 'I had gone in to cash one of those payday loan checks with a ridiculous interest rate because I was in need of money for the upcoming Holidays.The helpful lady who helped me suggested another option which got me more money at a rate of 14% rather than the 43% that the payday loan place would have charged me.',\n",
       " 'Allie was very nice and had a great attitude!  I appreciate the good customer service she provided!',\n",
       " 'Very fast and friendly.   Easy.  Helpful.  I love all the people at our Nederland branch!',\n",
       " 'The DuGood loan team as well as all its associates are always polite, helpful, and get things done quickly. Ms. Caryn was my loan officer this time. She was quick and efficient. I am very glad I opened with this FCU when I moved here. Dolores Finley',\n",
       " 'Well the customer service was wonderful and the experience was friendly and respectful.',\n",
       " 'Katrina is a pro. She helped me secure a new loan over the phone in less than 30 minutes.',\n",
       " 'Great customer service and fast response to my loan needs.',\n",
       " \"I needed a Christmas plan for extra funds and they didn't give me any hassles or any trouble with assisting me at all. I would definitely refer others to DuGood because they gave me great hospitality and were very professional. Thanks DuGood!!\",\n",
       " 'PoulmanotronadekhoubnistAmaagarbedaaliharfNadwremamad',\n",
       " 'DuGood is the only credit union we use for all of our financial needs! Always a quick and easy process!',\n",
       " 'We asked for a Christmas loan and was approved that day. Brenda was so helpful.',\n",
       " 'The Loan process was very convenient and easy to apply.  Loan officer was very helpful and responsive to get back in a very timely manor.  Loan officer was very polite and helpful in the whole process.',\n",
       " 'So easy and very pleasant to deal with.  Took no time at all!',\n",
       " 'We found the teller very patient and she made us feel comfortable while dealing with all our questions.   We founded her efficient.',\n",
       " 'It was a great experience for a great time of the Season and I appreciate it always friendly and helpful. Helping me to make a better and wise financial decisions and value in my credit!',\n",
       " 'My customer service representative was very knowledgeable, friendly and caring about assisting me with my new account. Her attitude was very positive and I can tell that she enjoys helping others. Such a delightful experience to have great customer service  still exist.',\n",
       " 'Getting a Christmas loan from DuGood was quick and easy. I applied online, completed the application, was able to DocoSign all on my documents, never set foot in any locations and had the money in my account the same day. Thanks DoGood!',\n",
       " 'It is a case of \"the best people\" going the extra mile to help do everything I needed to feel confident and safe. For myself, it was the considerate and business savvy way Kim Dyer saw to my needs and explaining details of what services my account provided. It was quick but professional and I was made comfortable in my choice.',\n",
       " 'Very good service from this bank they have very good deliing to with his customers they avaliable to any time help to customers I like it',\n",
       " 'EVERYONE IS SO GREAT, SHE GOT BACK TO ME REALLY FAST AND WAS SUCH A BIG HELP IN EVERYWAY THAT SHE COULD, I HAVE BEEN WITH DUGOOD FOR A LONG TIME AND HAVE NEVER HAD ANY PROBLEMS. A BIG THANK YOU TO EVERYONE.',\n",
       " 'Quick Service!  I received an email about applying for a Christmas loan.  I filled in a few details and the next day I had documents in my email to secure the loan.  The funds where in my account in less than an hour!  Thank you DuGood!~',\n",
       " 'Ronda Hamilton makes loans easy. Every time.',\n",
       " 'The representative was so friendly and informative while communicating with me. She walked us through the entire loan process with patience.',\n",
       " 'The process for the Christmas loan was the easiest stress free process I’ve gone through.',\n",
       " 'I was very pleased with the level of service and quickness to get everything approved.',\n",
       " 'Every thing went well no problems everyone did their job Thanks',\n",
       " 'Easy, fast and courteous. Good communication.',\n",
       " 'The knowledge of the employee!',\n",
       " 'Very fast and professional will do business with Dugood again in the future',\n",
       " 'Jennifer was amazing. I usually use Kensie at the Jasper branch for l my needs but unfortunately she was out of the office due to illness . When I spoke with Jennifer and explained my situation, she was very helpful and made the process so very easy for me and quick ! I am a travel nurse and I amI’m in Colorado currently for work . Jennifer helped me still feel connected to my hometown credit union from 22 hours away . I recommend Jennifer as well as Kensie (who helped me last month with a loan) for all your loan needs .',\n",
       " 'The bank associate that took care of what I wanted and needed done was very professional and polite. She explained in detail everything that she was doing along the way while asking if I had any questions. I process of opening a new account is fast and they will help with all your banking needs.',\n",
       " \"Jodeja Galentine made the car loan process. easy. She professionally explained the whole process quickly and efficiently. she was a pleasure to work with and you can trust her. It's hard to find such sincere and dedicated people. She made sure to help me in every aspect.\",\n",
       " 'People were super friendly and was ready to help me and got it taken care of',\n",
       " 'The loan was reviewed by a nice lady that explained everything to me one step at a time. She was patient y then explained the loan to me once it was improved.  Then she change my old checking account to the advantage plan I had questions about y explained the reward points I had and how to redeem them. I was very blessed by her kindness and help.',\n",
       " 'This place is awesome, every issue that I have had, they have been there to resolve it. Highly recommend DuGood.',\n",
       " 'The loan officer gave me the best service I have experienced in years. Things were faster than I expected.',\n",
       " 'My experience with DuGood CU was the ultimate!! Each time I am served I’m treated with the dignity and awesomeness! It’s a pleasure being a member of DuGood!! Thank you DuGood!!',\n",
       " 'Jada helped me open a checking and savings account, and although she is only a part-time employee, she puts in full-time effort. Honestly, I wouldn’t even bank here if it weren’t for her. She’s the only reason I’m choosing this bank, her excellent customer service, friendly attitude, and willingness to not only helped me in a timely manner, but also in a discreet one. I will be moving all bank accounts here because of her.',\n",
       " 'Their financial servicesHow they attend to customers',\n",
       " 'Their services are more and more than what you have ever experienced from the other. What I think is to advise everyone there to start using DuGood Credit Union is so good, safe and secure',\n",
       " 'Kennedie Crisanty was amazing… I was so impressed with her personality and professionalism. She went above and beyond to help me set up everything I needed.   Thank you Kennadie!!                 Cristi Smith',\n",
       " 'I went in for a loan to get my brakes fixed.  Mrs Ramirez(?) was very helpful and nice she went above and beyond all I could ask for. She got me the loan. It was the best experience I had so far that day. I love your bank and will  continue to do business with you guys for a long time. Thanks for everything.',\n",
       " 'Im experience was awesome and prompt ! Great customer service.',\n",
       " \"The best part about my experience was how they treat people. I want to personally thank Miss Tammy for everything she did for both me and my father. I couldn't see myself going anywhere else.\",\n",
       " 'Very positive and worked hard to get me the loan I needed.',\n",
       " 'She was patient and explained each account benefit and helped me make a great choice',\n",
       " 'Everything was good. Had no trouble getting my loan',\n",
       " 'I had a good experience about that .It is a good place to work with good peoples in all way.I worked many years there .I deposited money or credit card with it',\n",
       " 'Dugood credit union, had stood the test ok f time and pay wisely. A financial institution with difference.',\n",
       " 'I never feel rushed, everyone is always so helpful & kind. DuGood really wants to help us and our community!!',\n",
       " 'I mean it’s simple set up, new account can’t say much']"
      ]
     },
     "execution_count": 9,
     "metadata": {},
     "output_type": "execute_result"
    }
   ],
   "source": [
    "reviews_single = [review for sublist in reviews for review in sublist]\n",
    "reviews_single[:100]"
   ]
  },
  {
   "cell_type": "markdown",
   "metadata": {},
   "source": [
    "# 5. Loading Reviews into DataFrame and Scoring"
   ]
  },
  {
   "cell_type": "code",
   "execution_count": 10,
   "metadata": {},
   "outputs": [],
   "source": [
    "df = pd.DataFrame(np.array(reviews_single), columns=['review'])"
   ]
  },
  {
   "cell_type": "code",
   "execution_count": 80,
   "metadata": {},
   "outputs": [
    {
     "data": {
      "text/plain": [
       "'I financed my car through DuGood and I needed to have a account through them. Decided switching banks was easier then having multiple accounts open. Talked with Christy and she was very nice and helpful. She walked me through the whole process and explained everything in a simple and easy way to understand. I got more benefits then I did with my other bank and staff was so much nicer. Thank you Christy! Would recommend doing business here if you need a good bank!'"
      ]
     },
     "execution_count": 80,
     "metadata": {},
     "output_type": "execute_result"
    }
   ],
   "source": [
    "df['review'].iloc[2]"
   ]
  },
  {
   "cell_type": "markdown",
   "metadata": {},
   "source": [
    "#### Creating a function for sentiment calculation"
   ]
  },
  {
   "cell_type": "code",
   "execution_count": 11,
   "metadata": {},
   "outputs": [],
   "source": [
    "def sentiment_score(review):\n",
    "    tokens = tokenizer.encode(review, return_tensors='pt')\n",
    "    result = model(tokens)\n",
    "    return int(torch.argmax(result.logits))+1"
   ]
  },
  {
   "cell_type": "code",
   "execution_count": 82,
   "metadata": {},
   "outputs": [
    {
     "data": {
      "text/plain": [
       "4"
      ]
     },
     "execution_count": 82,
     "metadata": {},
     "output_type": "execute_result"
    }
   ],
   "source": [
    "sentiment_score(df['review'].iloc[1])"
   ]
  },
  {
   "cell_type": "markdown",
   "metadata": {},
   "source": [
    "#### Calculating sentiment score of each reiew and loading newly created sentiments to the dataframe"
   ]
  },
  {
   "cell_type": "code",
   "execution_count": 13,
   "metadata": {},
   "outputs": [],
   "source": [
    "df['sentiment'] = df['review'].apply(lambda x: sentiment_score(x[:512]))"
   ]
  },
  {
   "cell_type": "code",
   "execution_count": 14,
   "metadata": {},
   "outputs": [
    {
     "data": {
      "text/plain": [
       "4"
      ]
     },
     "execution_count": 14,
     "metadata": {},
     "output_type": "execute_result"
    }
   ],
   "source": [
    "df['sentiment'].iloc[56]"
   ]
  },
  {
   "cell_type": "markdown",
   "metadata": {},
   "source": [
    "## We have a dataframe of 421 Reviews with their Sentiment Predictions "
   ]
  },
  {
   "cell_type": "code",
   "execution_count": 15,
   "metadata": {},
   "outputs": [
    {
     "data": {
      "text/plain": [
       "(421, 2)"
      ]
     },
     "execution_count": 15,
     "metadata": {},
     "output_type": "execute_result"
    }
   ],
   "source": [
    "df.shape"
   ]
  },
  {
   "cell_type": "code",
   "execution_count": 16,
   "metadata": {},
   "outputs": [
    {
     "data": {
      "text/html": [
       "<div>\n",
       "<style scoped>\n",
       "    .dataframe tbody tr th:only-of-type {\n",
       "        vertical-align: middle;\n",
       "    }\n",
       "\n",
       "    .dataframe tbody tr th {\n",
       "        vertical-align: top;\n",
       "    }\n",
       "\n",
       "    .dataframe thead th {\n",
       "        text-align: right;\n",
       "    }\n",
       "</style>\n",
       "<table border=\"1\" class=\"dataframe\">\n",
       "  <thead>\n",
       "    <tr style=\"text-align: right;\">\n",
       "      <th></th>\n",
       "      <th>review</th>\n",
       "      <th>sentiment</th>\n",
       "    </tr>\n",
       "  </thead>\n",
       "  <tbody>\n",
       "    <tr>\n",
       "      <th>0</th>\n",
       "      <td>The customer service was amazing. The loan off...</td>\n",
       "      <td>5</td>\n",
       "    </tr>\n",
       "    <tr>\n",
       "      <th>1</th>\n",
       "      <td>I applied for an auto refinancing loan and it ...</td>\n",
       "      <td>4</td>\n",
       "    </tr>\n",
       "    <tr>\n",
       "      <th>2</th>\n",
       "      <td>I financed my car through DuGood and I needed ...</td>\n",
       "      <td>5</td>\n",
       "    </tr>\n",
       "    <tr>\n",
       "      <th>3</th>\n",
       "      <td>I was helped by an employee named Jada Needham...</td>\n",
       "      <td>4</td>\n",
       "    </tr>\n",
       "    <tr>\n",
       "      <th>4</th>\n",
       "      <td>My house is going to be back in the morning an...</td>\n",
       "      <td>3</td>\n",
       "    </tr>\n",
       "  </tbody>\n",
       "</table>\n",
       "</div>"
      ],
      "text/plain": [
       "                                              review  sentiment\n",
       "0  The customer service was amazing. The loan off...          5\n",
       "1  I applied for an auto refinancing loan and it ...          4\n",
       "2  I financed my car through DuGood and I needed ...          5\n",
       "3  I was helped by an employee named Jada Needham...          4\n",
       "4  My house is going to be back in the morning an...          3"
      ]
     },
     "execution_count": 16,
     "metadata": {},
     "output_type": "execute_result"
    }
   ],
   "source": [
    "df.head()"
   ]
  },
  {
   "cell_type": "code",
   "execution_count": 22,
   "metadata": {},
   "outputs": [
    {
     "data": {
      "text/plain": [
       "sentiment\n",
       "5    87.173397\n",
       "4     8.788599\n",
       "3     2.375297\n",
       "1     1.187648\n",
       "2     0.475059\n",
       "Name: proportion, dtype: float64"
      ]
     },
     "execution_count": 22,
     "metadata": {},
     "output_type": "execute_result"
    }
   ],
   "source": [
    "df.sentiment.value_counts(normalize=True)*100"
   ]
  },
  {
   "cell_type": "code",
   "execution_count": 25,
   "metadata": {},
   "outputs": [
    {
     "data": {
      "image/png": "[encoded data removed]",
      "text/plain": [
       "<Figure size 800x600 with 1 Axes>"
      ]
     },
     "metadata": {},
     "output_type": "display_data"
    }
   ],
   "source": [
    "import seaborn as sns\n",
    "import matplotlib.pyplot as plt\n",
    "sns.set()\n",
    "\n",
    "# Calculate the percentages for each category\n",
    "total = float(len(df))  \n",
    "\n",
    "plt.figure(figsize=(8, 6))\n",
    "ax = sns.countplot(x='sentiment', data=df)  \n",
    "\n",
    "# Iterate through each bar's height and add the percentage\n",
    "for p in ax.patches:\n",
    "    height = p.get_height()  \n",
    "    ax.text(p.get_x() + p.get_width() / 2., height+3, '{:.2%}'.format(height/total), ha=\"center\")\n",
    "\n",
    "plt.show()"
   ]
  },
  {
   "cell_type": "code",
   "execution_count": null,
   "metadata": {},
   "outputs": [],
   "source": []
  }
 ],
 "metadata": {
  "kernelspec": {
   "display_name": "Python 3 (ipykernel)",
   "language": "python",
   "name": "python3"
  },
  "language_info": {
   "codemirror_mode": {
    "name": "ipython",
    "version": 3
   },
   "file_extension": ".py",
   "mimetype": "text/x-python",
   "name": "python",
   "nbconvert_exporter": "python",
   "pygments_lexer": "ipython3",
   "version": "3.10.13"
  }
 },
 "nbformat": 4,
 "nbformat_minor": 2
}
